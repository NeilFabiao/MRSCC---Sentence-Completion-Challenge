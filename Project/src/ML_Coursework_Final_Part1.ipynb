{
  "nbformat": 4,
  "nbformat_minor": 0,
  "metadata": {
    "colab": {
      "name": "Submit_ML_Coursework_Final_Part1.ipynb",
      "provenance": [],
      "collapsed_sections": []
    },
    "kernelspec": {
      "name": "python3",
      "display_name": "Python 3"
    },
    "language_info": {
      "name": "python"
    }
  },
  "cells": [
    {
      "cell_type": "markdown",
      "source": [
        "# 0. Welcome <a name=\"Welcome\"></a>\n",
        "\n",
        "In this notebook, we are going to be looking at the fairness library AIF360 for the 934G5: Machine Learning Coursework.\n",
        "\n",
        "Moreover, the Submit_ML_Coursework_Final_Part1 presents implementation of the methods learned during the ML course. While the Submit_ML_Coursework_Final_Part2 demostrates techniques and methods which supplement what was learned during the ML course.\n",
        "\n",
        "- $Candidate Number:$ 250945\n",
        "- $Date:$    Spring 2021\n"
      ],
      "metadata": {
        "id": "7uYK3O_zkhda"
      }
    },
    {
      "cell_type": "code",
      "execution_count": 1,
      "metadata": {
        "id": "ypr1TX6tkHal",
        "colab": {
          "base_uri": "https://localhost:8080/"
        },
        "outputId": "8c87fe9a-364b-4154-ff36-675b97eefc3e"
      },
      "outputs": [
        {
          "output_type": "stream",
          "name": "stdout",
          "text": [
            "Collecting aif360[LFR]\n",
            "  Downloading aif360-0.4.0-py3-none-any.whl (175 kB)\n",
            "\u001b[?25l\r\u001b[K     |█▉                              | 10 kB 13.3 MB/s eta 0:00:01\r\u001b[K     |███▊                            | 20 kB 13.6 MB/s eta 0:00:01\r\u001b[K     |█████▋                          | 30 kB 13.5 MB/s eta 0:00:01\r\u001b[K     |███████▌                        | 40 kB 10.9 MB/s eta 0:00:01\r\u001b[K     |█████████▍                      | 51 kB 7.2 MB/s eta 0:00:01\r\u001b[K     |███████████▎                    | 61 kB 8.3 MB/s eta 0:00:01\r\u001b[K     |█████████████                   | 71 kB 7.7 MB/s eta 0:00:01\r\u001b[K     |███████████████                 | 81 kB 8.1 MB/s eta 0:00:01\r\u001b[K     |████████████████▉               | 92 kB 8.9 MB/s eta 0:00:01\r\u001b[K     |██████████████████▊             | 102 kB 8.2 MB/s eta 0:00:01\r\u001b[K     |████████████████████▋           | 112 kB 8.2 MB/s eta 0:00:01\r\u001b[K     |██████████████████████▌         | 122 kB 8.2 MB/s eta 0:00:01\r\u001b[K     |████████████████████████▎       | 133 kB 8.2 MB/s eta 0:00:01\r\u001b[K     |██████████████████████████▏     | 143 kB 8.2 MB/s eta 0:00:01\r\u001b[K     |████████████████████████████    | 153 kB 8.2 MB/s eta 0:00:01\r\u001b[K     |██████████████████████████████  | 163 kB 8.2 MB/s eta 0:00:01\r\u001b[K     |███████████████████████████████▉| 174 kB 8.2 MB/s eta 0:00:01\r\u001b[K     |████████████████████████████████| 175 kB 8.2 MB/s \n",
            "\u001b[33mWARNING: aif360 0.4.0 does not provide the extra 'lfr'\u001b[0m\n",
            "\u001b[?25hRequirement already satisfied: scikit-learn>=0.22.1 in /usr/local/lib/python3.7/dist-packages (from aif360[LFR]) (1.0.2)\n",
            "Requirement already satisfied: matplotlib in /usr/local/lib/python3.7/dist-packages (from aif360[LFR]) (3.2.2)\n",
            "Requirement already satisfied: scipy<1.6.0,>=1.2.0 in /usr/local/lib/python3.7/dist-packages (from aif360[LFR]) (1.4.1)\n",
            "Requirement already satisfied: pandas>=0.24.0 in /usr/local/lib/python3.7/dist-packages (from aif360[LFR]) (1.3.5)\n",
            "Requirement already satisfied: numpy>=1.16 in /usr/local/lib/python3.7/dist-packages (from aif360[LFR]) (1.21.6)\n",
            "Collecting tempeh\n",
            "  Downloading tempeh-0.1.12-py3-none-any.whl (39 kB)\n",
            "Requirement already satisfied: python-dateutil>=2.7.3 in /usr/local/lib/python3.7/dist-packages (from pandas>=0.24.0->aif360[LFR]) (2.8.2)\n",
            "Requirement already satisfied: pytz>=2017.3 in /usr/local/lib/python3.7/dist-packages (from pandas>=0.24.0->aif360[LFR]) (2022.1)\n",
            "Requirement already satisfied: six>=1.5 in /usr/local/lib/python3.7/dist-packages (from python-dateutil>=2.7.3->pandas>=0.24.0->aif360[LFR]) (1.15.0)\n",
            "Requirement already satisfied: threadpoolctl>=2.0.0 in /usr/local/lib/python3.7/dist-packages (from scikit-learn>=0.22.1->aif360[LFR]) (3.1.0)\n",
            "Requirement already satisfied: joblib>=0.11 in /usr/local/lib/python3.7/dist-packages (from scikit-learn>=0.22.1->aif360[LFR]) (1.1.0)\n",
            "Requirement already satisfied: cycler>=0.10 in /usr/local/lib/python3.7/dist-packages (from matplotlib->aif360[LFR]) (0.11.0)\n",
            "Requirement already satisfied: pyparsing!=2.0.4,!=2.1.2,!=2.1.6,>=2.0.1 in /usr/local/lib/python3.7/dist-packages (from matplotlib->aif360[LFR]) (3.0.8)\n",
            "Requirement already satisfied: kiwisolver>=1.0.1 in /usr/local/lib/python3.7/dist-packages (from matplotlib->aif360[LFR]) (1.4.2)\n",
            "Requirement already satisfied: typing-extensions in /usr/local/lib/python3.7/dist-packages (from kiwisolver>=1.0.1->matplotlib->aif360[LFR]) (4.2.0)\n",
            "Requirement already satisfied: requests in /usr/local/lib/python3.7/dist-packages (from tempeh->aif360[LFR]) (2.23.0)\n",
            "Requirement already satisfied: pytest in /usr/local/lib/python3.7/dist-packages (from tempeh->aif360[LFR]) (3.6.4)\n",
            "Collecting memory-profiler\n",
            "  Downloading memory_profiler-0.60.0.tar.gz (38 kB)\n",
            "Collecting shap\n",
            "  Downloading shap-0.40.0-cp37-cp37m-manylinux2010_x86_64.whl (564 kB)\n",
            "\u001b[K     |████████████████████████████████| 564 kB 45.3 MB/s \n",
            "\u001b[?25hRequirement already satisfied: psutil in /usr/local/lib/python3.7/dist-packages (from memory-profiler->tempeh->aif360[LFR]) (5.4.8)\n",
            "Requirement already satisfied: py>=1.5.0 in /usr/local/lib/python3.7/dist-packages (from pytest->tempeh->aif360[LFR]) (1.11.0)\n",
            "Requirement already satisfied: attrs>=17.4.0 in /usr/local/lib/python3.7/dist-packages (from pytest->tempeh->aif360[LFR]) (21.4.0)\n",
            "Requirement already satisfied: atomicwrites>=1.0 in /usr/local/lib/python3.7/dist-packages (from pytest->tempeh->aif360[LFR]) (1.4.0)\n",
            "Requirement already satisfied: more-itertools>=4.0.0 in /usr/local/lib/python3.7/dist-packages (from pytest->tempeh->aif360[LFR]) (8.12.0)\n",
            "Requirement already satisfied: pluggy<0.8,>=0.5 in /usr/local/lib/python3.7/dist-packages (from pytest->tempeh->aif360[LFR]) (0.7.1)\n",
            "Requirement already satisfied: setuptools in /usr/local/lib/python3.7/dist-packages (from pytest->tempeh->aif360[LFR]) (57.4.0)\n",
            "Requirement already satisfied: idna<3,>=2.5 in /usr/local/lib/python3.7/dist-packages (from requests->tempeh->aif360[LFR]) (2.10)\n",
            "Requirement already satisfied: urllib3!=1.25.0,!=1.25.1,<1.26,>=1.21.1 in /usr/local/lib/python3.7/dist-packages (from requests->tempeh->aif360[LFR]) (1.24.3)\n",
            "Requirement already satisfied: certifi>=2017.4.17 in /usr/local/lib/python3.7/dist-packages (from requests->tempeh->aif360[LFR]) (2021.10.8)\n",
            "Requirement already satisfied: chardet<4,>=3.0.2 in /usr/local/lib/python3.7/dist-packages (from requests->tempeh->aif360[LFR]) (3.0.4)\n",
            "Requirement already satisfied: numba in /usr/local/lib/python3.7/dist-packages (from shap->tempeh->aif360[LFR]) (0.51.2)\n",
            "Requirement already satisfied: packaging>20.9 in /usr/local/lib/python3.7/dist-packages (from shap->tempeh->aif360[LFR]) (21.3)\n",
            "Requirement already satisfied: cloudpickle in /usr/local/lib/python3.7/dist-packages (from shap->tempeh->aif360[LFR]) (1.3.0)\n",
            "Requirement already satisfied: tqdm>4.25.0 in /usr/local/lib/python3.7/dist-packages (from shap->tempeh->aif360[LFR]) (4.64.0)\n",
            "Collecting slicer==0.0.7\n",
            "  Downloading slicer-0.0.7-py3-none-any.whl (14 kB)\n",
            "Requirement already satisfied: llvmlite<0.35,>=0.34.0.dev0 in /usr/local/lib/python3.7/dist-packages (from numba->shap->tempeh->aif360[LFR]) (0.34.0)\n",
            "Building wheels for collected packages: memory-profiler\n",
            "  Building wheel for memory-profiler (setup.py) ... \u001b[?25l\u001b[?25hdone\n",
            "  Created wheel for memory-profiler: filename=memory_profiler-0.60.0-py3-none-any.whl size=31284 sha256=042219cf61a24f446d1f8dc6e877d225e3ffa264a2eb143b5db219167851ac2c\n",
            "  Stored in directory: /root/.cache/pip/wheels/67/2b/fb/326e30d638c538e69a5eb0aa47f4223d979f502bbdb403950f\n",
            "Successfully built memory-profiler\n",
            "Installing collected packages: slicer, shap, memory-profiler, tempeh, aif360\n",
            "Successfully installed aif360-0.4.0 memory-profiler-0.60.0 shap-0.40.0 slicer-0.0.7 tempeh-0.1.12\n"
          ]
        }
      ],
      "source": [
        "!pip install 'aif360[LFR]'"
      ]
    },
    {
      "cell_type": "code",
      "source": [
        "cd /usr/local/lib/python3.7/dist-packages/aif360/data/raw/adult"
      ],
      "metadata": {
        "id": "FFIpGFwRkp3X",
        "colab": {
          "base_uri": "https://localhost:8080/"
        },
        "outputId": "4f4dc60e-ba25-4f35-d70c-4f709b89e3cc"
      },
      "execution_count": 2,
      "outputs": [
        {
          "output_type": "stream",
          "name": "stdout",
          "text": [
            "/usr/local/lib/python3.7/dist-packages/aif360/data/raw/adult\n"
          ]
        }
      ]
    },
    {
      "cell_type": "code",
      "source": [
        "!wget https://archive.ics.uci.edu/ml/machine-learning-databases/adult/adult.data\n",
        "!wget https://archive.ics.uci.edu/ml/machine-learning-databases/adult/adult.names\n",
        "!wget https://archive.ics.uci.edu/ml/machine-learning-databases/adult/adult.test"
      ],
      "metadata": {
        "id": "AzqLlj5Tkx5I",
        "colab": {
          "base_uri": "https://localhost:8080/"
        },
        "outputId": "9b635a21-c666-46e6-e3ce-d574dc565f3d"
      },
      "execution_count": 3,
      "outputs": [
        {
          "output_type": "stream",
          "name": "stdout",
          "text": [
            "--2022-05-13 13:10:15--  https://archive.ics.uci.edu/ml/machine-learning-databases/adult/adult.data\n",
            "Resolving archive.ics.uci.edu (archive.ics.uci.edu)... 128.195.10.252\n",
            "Connecting to archive.ics.uci.edu (archive.ics.uci.edu)|128.195.10.252|:443... connected.\n",
            "HTTP request sent, awaiting response... 200 OK\n",
            "Length: 3974305 (3.8M) [application/x-httpd-php]\n",
            "Saving to: ‘adult.data’\n",
            "\n",
            "adult.data          100%[===================>]   3.79M  16.3MB/s    in 0.2s    \n",
            "\n",
            "2022-05-13 13:10:16 (16.3 MB/s) - ‘adult.data’ saved [3974305/3974305]\n",
            "\n",
            "--2022-05-13 13:10:16--  https://archive.ics.uci.edu/ml/machine-learning-databases/adult/adult.names\n",
            "Resolving archive.ics.uci.edu (archive.ics.uci.edu)... 128.195.10.252\n",
            "Connecting to archive.ics.uci.edu (archive.ics.uci.edu)|128.195.10.252|:443... connected.\n",
            "HTTP request sent, awaiting response... 200 OK\n",
            "Length: 5229 (5.1K) [application/x-httpd-php]\n",
            "Saving to: ‘adult.names’\n",
            "\n",
            "adult.names         100%[===================>]   5.11K  --.-KB/s    in 0s      \n",
            "\n",
            "2022-05-13 13:10:16 (91.4 MB/s) - ‘adult.names’ saved [5229/5229]\n",
            "\n",
            "--2022-05-13 13:10:16--  https://archive.ics.uci.edu/ml/machine-learning-databases/adult/adult.test\n",
            "Resolving archive.ics.uci.edu (archive.ics.uci.edu)... 128.195.10.252\n",
            "Connecting to archive.ics.uci.edu (archive.ics.uci.edu)|128.195.10.252|:443... connected.\n",
            "HTTP request sent, awaiting response... 200 OK\n",
            "Length: 2003153 (1.9M) [application/x-httpd-php]\n",
            "Saving to: ‘adult.test’\n",
            "\n",
            "adult.test          100%[===================>]   1.91M  9.93MB/s    in 0.2s    \n",
            "\n",
            "2022-05-13 13:10:16 (9.93 MB/s) - ‘adult.test’ saved [2003153/2003153]\n",
            "\n"
          ]
        }
      ]
    },
    {
      "cell_type": "code",
      "source": [
        "cd /usr/local/lib/python3.7/dist-packages/aif360/data/raw/german"
      ],
      "metadata": {
        "id": "UzTMcV3564oI",
        "colab": {
          "base_uri": "https://localhost:8080/"
        },
        "outputId": "836632c8-8cbd-4085-889b-be2c498b4f22"
      },
      "execution_count": 4,
      "outputs": [
        {
          "output_type": "stream",
          "name": "stdout",
          "text": [
            "/usr/local/lib/python3.7/dist-packages/aif360/data/raw/german\n"
          ]
        }
      ]
    },
    {
      "cell_type": "code",
      "source": [
        "!wget https://archive.ics.uci.edu/ml/machine-learning-databases/statlog/german/german.data\n",
        "!wget https://archive.ics.uci.edu/ml/machine-learning-databases/statlog/german/german.doc"
      ],
      "metadata": {
        "id": "StErN1lG62Mh",
        "colab": {
          "base_uri": "https://localhost:8080/"
        },
        "outputId": "65af0f8c-3395-4fb1-bcbb-58e458501645"
      },
      "execution_count": 5,
      "outputs": [
        {
          "output_type": "stream",
          "name": "stdout",
          "text": [
            "--2022-05-13 13:10:16--  https://archive.ics.uci.edu/ml/machine-learning-databases/statlog/german/german.data\n",
            "Resolving archive.ics.uci.edu (archive.ics.uci.edu)... 128.195.10.252\n",
            "Connecting to archive.ics.uci.edu (archive.ics.uci.edu)|128.195.10.252|:443... connected.\n",
            "HTTP request sent, awaiting response... 200 OK\n",
            "Length: 79793 (78K) [application/x-httpd-php]\n",
            "Saving to: ‘german.data’\n",
            "\n",
            "german.data         100%[===================>]  77.92K  --.-KB/s    in 0.06s   \n",
            "\n",
            "2022-05-13 13:10:17 (1.35 MB/s) - ‘german.data’ saved [79793/79793]\n",
            "\n",
            "--2022-05-13 13:10:17--  https://archive.ics.uci.edu/ml/machine-learning-databases/statlog/german/german.doc\n",
            "Resolving archive.ics.uci.edu (archive.ics.uci.edu)... 128.195.10.252\n",
            "Connecting to archive.ics.uci.edu (archive.ics.uci.edu)|128.195.10.252|:443... connected.\n",
            "HTTP request sent, awaiting response... 200 OK\n",
            "Length: 4679 (4.6K) [application/x-httpd-php]\n",
            "Saving to: ‘german.doc’\n",
            "\n",
            "german.doc          100%[===================>]   4.57K  --.-KB/s    in 0s      \n",
            "\n",
            "2022-05-13 13:10:17 (123 MB/s) - ‘german.doc’ saved [4679/4679]\n",
            "\n"
          ]
        }
      ]
    },
    {
      "cell_type": "code",
      "source": [
        "! pip install \"fairlearn\""
      ],
      "metadata": {
        "id": "Jd9O-KLQk-fo",
        "colab": {
          "base_uri": "https://localhost:8080/"
        },
        "outputId": "4987e526-1896-43b1-a30b-7b244e4668ba"
      },
      "execution_count": 6,
      "outputs": [
        {
          "output_type": "stream",
          "name": "stdout",
          "text": [
            "Collecting fairlearn\n",
            "  Downloading fairlearn-0.7.0-py3-none-any.whl (177 kB)\n",
            "\u001b[?25l\r\u001b[K     |█▉                              | 10 kB 17.4 MB/s eta 0:00:01\r\u001b[K     |███▊                            | 20 kB 24.0 MB/s eta 0:00:01\r\u001b[K     |█████▌                          | 30 kB 14.3 MB/s eta 0:00:01\r\u001b[K     |███████▍                        | 40 kB 6.5 MB/s eta 0:00:01\r\u001b[K     |█████████▎                      | 51 kB 6.3 MB/s eta 0:00:01\r\u001b[K     |███████████                     | 61 kB 7.3 MB/s eta 0:00:01\r\u001b[K     |█████████████                   | 71 kB 7.9 MB/s eta 0:00:01\r\u001b[K     |██████████████▊                 | 81 kB 6.9 MB/s eta 0:00:01\r\u001b[K     |████████████████▋               | 92 kB 7.6 MB/s eta 0:00:01\r\u001b[K     |██████████████████▌             | 102 kB 7.1 MB/s eta 0:00:01\r\u001b[K     |████████████████████▎           | 112 kB 7.1 MB/s eta 0:00:01\r\u001b[K     |██████████████████████▏         | 122 kB 7.1 MB/s eta 0:00:01\r\u001b[K     |████████████████████████        | 133 kB 7.1 MB/s eta 0:00:01\r\u001b[K     |█████████████████████████▉      | 143 kB 7.1 MB/s eta 0:00:01\r\u001b[K     |███████████████████████████▊    | 153 kB 7.1 MB/s eta 0:00:01\r\u001b[K     |█████████████████████████████▌  | 163 kB 7.1 MB/s eta 0:00:01\r\u001b[K     |███████████████████████████████▍| 174 kB 7.1 MB/s eta 0:00:01\r\u001b[K     |████████████████████████████████| 177 kB 7.1 MB/s \n",
            "\u001b[?25hRequirement already satisfied: numpy>=1.17.2 in /usr/local/lib/python3.7/dist-packages (from fairlearn) (1.21.6)\n",
            "Requirement already satisfied: scipy>=1.4.1 in /usr/local/lib/python3.7/dist-packages (from fairlearn) (1.4.1)\n",
            "Requirement already satisfied: scikit-learn>=0.22.1 in /usr/local/lib/python3.7/dist-packages (from fairlearn) (1.0.2)\n",
            "Requirement already satisfied: pandas>=0.25.1 in /usr/local/lib/python3.7/dist-packages (from fairlearn) (1.3.5)\n",
            "Requirement already satisfied: pytz>=2017.3 in /usr/local/lib/python3.7/dist-packages (from pandas>=0.25.1->fairlearn) (2022.1)\n",
            "Requirement already satisfied: python-dateutil>=2.7.3 in /usr/local/lib/python3.7/dist-packages (from pandas>=0.25.1->fairlearn) (2.8.2)\n",
            "Requirement already satisfied: six>=1.5 in /usr/local/lib/python3.7/dist-packages (from python-dateutil>=2.7.3->pandas>=0.25.1->fairlearn) (1.15.0)\n",
            "Requirement already satisfied: threadpoolctl>=2.0.0 in /usr/local/lib/python3.7/dist-packages (from scikit-learn>=0.22.1->fairlearn) (3.1.0)\n",
            "Requirement already satisfied: joblib>=0.11 in /usr/local/lib/python3.7/dist-packages (from scikit-learn>=0.22.1->fairlearn) (1.1.0)\n",
            "Installing collected packages: fairlearn\n",
            "Successfully installed fairlearn-0.7.0\n"
          ]
        }
      ]
    },
    {
      "cell_type": "code",
      "source": [
        "!pip install BlackBoxAuditing"
      ],
      "metadata": {
        "id": "HZGJFEkfQUQv",
        "colab": {
          "base_uri": "https://localhost:8080/"
        },
        "outputId": "c5640187-4c2a-4d0f-e307-ef2bbb14c74e"
      },
      "execution_count": 7,
      "outputs": [
        {
          "output_type": "stream",
          "name": "stdout",
          "text": [
            "Collecting BlackBoxAuditing\n",
            "  Downloading BlackBoxAuditing-0.1.54.tar.gz (2.6 MB)\n",
            "\u001b[K     |████████████████████████████████| 2.6 MB 8.6 MB/s \n",
            "\u001b[?25hRequirement already satisfied: networkx in /usr/local/lib/python3.7/dist-packages (from BlackBoxAuditing) (2.6.3)\n",
            "Requirement already satisfied: matplotlib in /usr/local/lib/python3.7/dist-packages (from BlackBoxAuditing) (3.2.2)\n",
            "Requirement already satisfied: pandas in /usr/local/lib/python3.7/dist-packages (from BlackBoxAuditing) (1.3.5)\n",
            "Requirement already satisfied: numpy in /usr/local/lib/python3.7/dist-packages (from BlackBoxAuditing) (1.21.6)\n",
            "Requirement already satisfied: cycler>=0.10 in /usr/local/lib/python3.7/dist-packages (from matplotlib->BlackBoxAuditing) (0.11.0)\n",
            "Requirement already satisfied: pyparsing!=2.0.4,!=2.1.2,!=2.1.6,>=2.0.1 in /usr/local/lib/python3.7/dist-packages (from matplotlib->BlackBoxAuditing) (3.0.8)\n",
            "Requirement already satisfied: kiwisolver>=1.0.1 in /usr/local/lib/python3.7/dist-packages (from matplotlib->BlackBoxAuditing) (1.4.2)\n",
            "Requirement already satisfied: python-dateutil>=2.1 in /usr/local/lib/python3.7/dist-packages (from matplotlib->BlackBoxAuditing) (2.8.2)\n",
            "Requirement already satisfied: typing-extensions in /usr/local/lib/python3.7/dist-packages (from kiwisolver>=1.0.1->matplotlib->BlackBoxAuditing) (4.2.0)\n",
            "Requirement already satisfied: six>=1.5 in /usr/local/lib/python3.7/dist-packages (from python-dateutil>=2.1->matplotlib->BlackBoxAuditing) (1.15.0)\n",
            "Requirement already satisfied: pytz>=2017.3 in /usr/local/lib/python3.7/dist-packages (from pandas->BlackBoxAuditing) (2022.1)\n",
            "Building wheels for collected packages: BlackBoxAuditing\n",
            "  Building wheel for BlackBoxAuditing (setup.py) ... \u001b[?25l\u001b[?25hdone\n",
            "  Created wheel for BlackBoxAuditing: filename=BlackBoxAuditing-0.1.54-py2.py3-none-any.whl size=1394770 sha256=9284f3c0c0062cf304afdf9137adad4804fc88ae9e966a0ead486ff872210a2c\n",
            "  Stored in directory: /root/.cache/pip/wheels/05/9f/ee/541a74be4cf5dad17430e64d3276370ea7b6a834a76cb4215a\n",
            "Successfully built BlackBoxAuditing\n",
            "Installing collected packages: BlackBoxAuditing\n",
            "Successfully installed BlackBoxAuditing-0.1.54\n"
          ]
        }
      ]
    },
    {
      "cell_type": "code",
      "source": [
        "#Baseline code adapted from sections of V Sharmanska. \n",
        "#STEP 1: Import the necessary libraries\n",
        "\n",
        "# Libraries to study in aif360\n",
        "from aif360.datasets import AdultDataset, GermanDataset, BankDataset\n",
        "from aif360.algorithms.preprocessing.optim_preproc_helpers.data_preproc_functions import load_preproc_data_adult,load_preproc_data_german\n",
        "from aif360.metrics import ClassificationMetric\n",
        "from aif360.algorithms.preprocessing.reweighing import Reweighing\n",
        "from aif360.algorithms.postprocessing.calibrated_eq_odds_postprocessing import CalibratedEqOddsPostprocessing\n",
        "from aif360.algorithms.postprocessing import  EqOddsPostprocessing, RejectOptionClassification\n",
        "from aif360.algorithms.inprocessing import AdversarialDebiasing, PrejudiceRemover,GerryFairClassifier\n",
        "from aif360.algorithms.preprocessing import LFR, Reweighing,DisparateImpactRemover\n",
        "from aif360.metrics import BinaryLabelDatasetMetric, ClassificationMetric\n",
        "\n",
        "# Sklearn imports\n",
        "from sklearn.pipeline import Pipeline\n",
        "from sklearn.impute import SimpleImputer\n",
        "from sklearn.preprocessing import StandardScaler,MinMaxScaler,OneHotEncoder\n",
        "from sklearn.linear_model import LogisticRegression\n",
        "from sklearn.tree import DecisionTreeClassifier\n",
        "from sklearn.metrics import classification_report\n",
        "from sklearn.model_selection import *\n",
        "from sklearn.model_selection import KFold\n",
        "\n",
        "# ML libraries\n",
        "import pdb\n",
        "import numpy as np\n",
        "import tensorflow as tf\n",
        "import torch\n",
        "import time\n",
        "from torch import optim\n",
        "from torch import nn\n",
        "from torch.nn import functional as F\n",
        "from typing import Callable\n",
        "import pandas as pd\n",
        "import matplotlib.pyplot as plt\n",
        "from pprint import pprint\n",
        "\n",
        "np.random.seed(0)"
      ],
      "metadata": {
        "id": "vzmshfKJkyYZ"
      },
      "execution_count": 8,
      "outputs": []
    },
    {
      "cell_type": "markdown",
      "source": [
        "## Task1: \n",
        "\n",
        "- The standard machine learning methods such as logistic regression, support vector machines, multi-layer perceptron use a trade-off hyperparameter (lambda, learning rate) to trade-off accuracy and generalisation (Lecture 5). ***The first task is to analyse whether or not better generalisation could correspond to fairer models.***\n",
        "\n",
        "- Specifically, for a given machine learning model of your choice, use training data to perform 5-fold cross validation. By varying the trade-off hyperparameter, select (1) the model with the highest accuracy, and (2) the model with the best fairness metric across 5 folds 1. \n",
        "\n",
        "- After this model selection step, compute and report final accuracy and fairness metrics for both models (1) and (2) on the test set.\n"
      ],
      "metadata": {
        "id": "zclIiTzu1ldr"
      }
    },
    {
      "cell_type": "markdown",
      "source": [
        "### Task 1 Code"
      ],
      "metadata": {
        "id": "20NXni7nBIMJ"
      }
    },
    {
      "cell_type": "code",
      "source": [
        "start = time.time()#this is to measure elapsed time\n",
        "\n",
        "def task1_vanilla_test(load_preproc=load_preproc_data_adult):\n",
        "\n",
        "  privileged_groups = [{'sex': 1}]\n",
        "  unprivileged_groups = [{'sex': 0}]\n",
        "  dataset_orig = load_preproc(['sex'])\n",
        "\n",
        "  #STEP 3: We split between training and test set.\n",
        "  train_, test_ = dataset_orig.split([0.7], shuffle=True)\n",
        "  print(\"training data size\", train_.features.shape)\n",
        "  print(\"dataset feature names\", train_.feature_names)\n",
        "\n",
        "  kf = KFold(n_splits=5, random_state=41, shuffle=True)\n",
        "  results_ = {}\n",
        "  results_gini2 = {}\n",
        "  results_gini26 = {}\n",
        "\n",
        "  # Different criterions\n",
        "  criterions = ['gini', 'entropy']\n",
        "  # Maximum number of levels in tree\n",
        "  max_depth = [int(x) for x in np.linspace(2, 100, num = 5)]\n",
        "  max_depth.append(None)\n",
        "\n",
        "  for criterion_1 in criterions:\n",
        "\n",
        "      for depth in max_depth:\n",
        "\n",
        "        for fold_num,(train_index, test_index) in enumerate(kf.split(train_.features)):\n",
        "\n",
        "          trainining_ = train_.subset(train_index)\n",
        "          testing_ = train_.subset(test_index)\n",
        "\n",
        "          #Normalize the dataset, both train and test. This should always be done in any machine learning pipeline!\n",
        "          scale = StandardScaler()\n",
        "\n",
        "          X_train_ = scale.fit_transform(trainining_.features)\n",
        "          y_train_ = trainining_.labels.ravel()\n",
        "\n",
        "          X_test_ = scale.transform(testing_.features) \n",
        "          y_test_ = testing_.labels.ravel()\n",
        "\n",
        "          #STEP 7: fitting and predicting our labels using our classification algorithm\n",
        "          learner = DecisionTreeClassifier(criterion=criterion_1,max_depth=depth)  \n",
        "          learner.fit(X_train_,y_train_)\n",
        "          predictions = learner.predict(X_test_)\n",
        "          model_acc = sum(predictions==y_test_)/len(y_test_)\n",
        "\n",
        "          test_pred = testing_.copy()\n",
        "          test_pred.labels = predictions\n",
        "\n",
        "          #STEP 8: Retrieving the fairness metrics from our classification algorithm after pre and post processing\n",
        "          metric_pred = ClassificationMetric(testing_, test_pred, unprivileged_groups=unprivileged_groups, privileged_groups=privileged_groups)\n",
        "          classified_metric = ClassificationMetric(testing_, test_pred, unprivileged_groups=unprivileged_groups, privileged_groups=privileged_groups)\n",
        "\n",
        "          #retrieving metrics from the classifier. The accuracies include percentage of true pred, statistical parity difference, disparate impact and equal opportunity.\n",
        "          result = {'Accuracy':model_acc,'statistical_parity_difference': metric_pred.statistical_parity_difference(),\n",
        "                    'disparate_impact': metric_pred.disparate_impact(),'equal_opportunity_difference': classified_metric.equal_opportunity_difference()}\n",
        "\n",
        "          results_[str(fold_num)+'DecisionTree_'+str(criterion_1)+str(depth)]=result#saving the results of the decision tree classifier \n",
        "  return results_,test_,train_ \n",
        "end = time.time()\n",
        "total = end - start\n",
        "print('Total elapsed time was',total)"
      ],
      "metadata": {
        "id": "mJTwBv4liUjt",
        "colab": {
          "base_uri": "https://localhost:8080/"
        },
        "outputId": "6dadd142-ba13-4747-fae5-3cd405903574"
      },
      "execution_count": 10,
      "outputs": [
        {
          "output_type": "stream",
          "name": "stdout",
          "text": [
            "Total elapsed time was 0.0007388591766357422\n"
          ]
        }
      ]
    },
    {
      "cell_type": "code",
      "source": [
        "start = time.time()#this is to measure elapsed time\n",
        "def avenger_dictionary(dict_):\n",
        "  \n",
        "  '''\n",
        "  After the dict is retrieved and each metric is separated using the retrive_metrics_dataframe, \n",
        "  the dictionaries values for each column are split into the four avaliable accuracy metrics \n",
        "  and an average is calculated.\n",
        "  '''\n",
        "  Accmean = sum(col['Accuracy'] for col in dict_)/ len(dict_)\n",
        "  Statmean = sum(col['statistical_parity_difference'] for col in dict_)/ len(dict_)\n",
        "  Dispmean = sum(col['disparate_impact'] for col in dict_)/ len(dict_)\n",
        "  Equalmean = sum(col['equal_opportunity_difference'] for col in dict_)/ len(dict_)\n",
        "  keys = ['Accuracy', 'statistical_parity_difference', 'disparate_impact','equal_opportunity_difference']\n",
        "  values = [Accmean, Statmean, Dispmean,Equalmean]\n",
        "\n",
        "  dictionary = dict(zip(keys, values))\n",
        "\n",
        "  return dictionary\n",
        "\n",
        "def retrive_metrics_dataframe(results_dict):\n",
        "  '''\n",
        "  This function uses the results_dict dictionary retrived from the task1_vanilla_test function\n",
        "  and returns a dataframe with each metrics with the assistance of the avenger_dictionary function\n",
        "  '''\n",
        "  results_2_entropy,results_2_gini = [],[]\n",
        "\n",
        "  results_26_entropy,results_26_gini =  [],[]\n",
        "\n",
        "  results_51_entropy,results_51_gini =  [],[]\n",
        "\n",
        "  results_75_entropy,results_75_gini = [],[]\n",
        "\n",
        "  results_100_entropy,results_100_gini = [],[]\n",
        "\n",
        "  results_None_entropy,results_None_gini = [],[]\n",
        "\n",
        "  for key in results_dict.keys():\n",
        "\n",
        "    if key[1:]=='DecisionTree_entropy2':\n",
        "      results_2_entropy.append(results_dict[key])\n",
        "    if key[1:]=='DecisionTree_gini2':\n",
        "      results_2_gini.append(results_dict[key])\n",
        "\n",
        "    if key[1:]=='DecisionTree_entropy26':\n",
        "      results_26_entropy.append(results_dict[key])\n",
        "    if key[1:]=='DecisionTree_gini26':\n",
        "      results_26_gini.append(results_dict[key])\n",
        "\n",
        "    if key[1:]=='DecisionTree_entropy51':\n",
        "      results_51_entropy.append(results_dict[key])\n",
        "    if key[1:]=='DecisionTree_gini51':\n",
        "      results_51_gini.append(results_dict[key])\n",
        "\n",
        "    if key[1:]=='DecisionTree_entropy100':\n",
        "      results_100_entropy.append(results_dict[key])\n",
        "    if key[1:]=='DecisionTree_gini100':\n",
        "      results_100_gini.append(results_dict[key])\n",
        "\n",
        "    if key[1:]=='DecisionTree_entropyNone':\n",
        "      results_None_entropy.append(results_dict[key])\n",
        "    if key[1:]=='DecisionTree_giniNone':\n",
        "      results_None_gini.append(results_dict[key])\n",
        "\n",
        "  results_dataframe = {}\n",
        "  results_dataframe['DecisionTree_entropy2'] = avenger_dictionary(results_2_entropy)\n",
        "  results_dataframe['DecisionTree_gini2'] = avenger_dictionary(results_2_gini)\n",
        "  results_dataframe['DecisionTree_entropy26'] = avenger_dictionary(results_26_entropy)\n",
        "  results_dataframe['DecisionTree_gini26'] = avenger_dictionary(results_26_gini)\n",
        "  results_dataframe['DecisionTree_entropy51'] = avenger_dictionary(results_51_entropy)\n",
        "  results_dataframe['DecisionTree_gini51'] = avenger_dictionary(results_51_gini)\n",
        "  results_dataframe['DecisionTree_entropy100'] = avenger_dictionary(results_100_entropy)\n",
        "  results_dataframe['DecisionTree_gini100'] = avenger_dictionary(results_100_gini)\n",
        "  results_dataframe['DecisionTree_entropyNone'] = avenger_dictionary(results_None_entropy)\n",
        "  results_dataframe['DecisionTree_giniNone'] = avenger_dictionary(results_None_gini)\n",
        "  df_ = []\n",
        "  df_ = pd.DataFrame(results_dataframe).T\n",
        "\n",
        "  return df_\n"
      ],
      "metadata": {
        "id": "7yYH8SdkidSd"
      },
      "execution_count": 16,
      "outputs": []
    },
    {
      "cell_type": "markdown",
      "source": [
        "### Task 1.2 Adult dataset results"
      ],
      "metadata": {
        "id": "b3LJUpG6Bjh_"
      }
    },
    {
      "cell_type": "code",
      "source": [
        "start = time.time()#this is to measure elapsed time\n",
        "results,test_data,train_data= task1_vanilla_test(load_preproc_data_adult)\n",
        "df = retrive_metrics_dataframe(results)\n",
        "end = time.time()\n",
        "total = end - start\n",
        "print('Total elapsed time was',total)\n",
        "df"
      ],
      "metadata": {
        "id": "hg-pn60mBiEO",
        "colab": {
          "base_uri": "https://localhost:8080/",
          "height": 430
        },
        "outputId": "b6424d9a-6881-478f-f24f-dd8a0580a275"
      },
      "execution_count": 17,
      "outputs": [
        {
          "output_type": "stream",
          "name": "stdout",
          "text": [
            "training data size (34189, 18)\n",
            "dataset feature names ['race', 'sex', 'Age (decade)=10', 'Age (decade)=20', 'Age (decade)=30', 'Age (decade)=40', 'Age (decade)=50', 'Age (decade)=60', 'Age (decade)=>=70', 'Education Years=6', 'Education Years=7', 'Education Years=8', 'Education Years=9', 'Education Years=10', 'Education Years=11', 'Education Years=12', 'Education Years=<6', 'Education Years=>12']\n",
            "Total elapsed time was 4.817979097366333\n"
          ]
        },
        {
          "output_type": "execute_result",
          "data": {
            "text/plain": [
              "                          Accuracy  statistical_parity_difference  \\\n",
              "DecisionTree_entropy2     0.785136                      -0.069646   \n",
              "DecisionTree_gini2        0.785136                      -0.069646   \n",
              "DecisionTree_entropy26    0.803182                      -0.219895   \n",
              "DecisionTree_gini26       0.803182                      -0.219895   \n",
              "DecisionTree_entropy51    0.803182                      -0.219895   \n",
              "DecisionTree_gini51       0.803182                      -0.219895   \n",
              "DecisionTree_entropy100   0.803182                      -0.219895   \n",
              "DecisionTree_gini100      0.803182                      -0.219895   \n",
              "DecisionTree_entropyNone  0.803182                      -0.219895   \n",
              "DecisionTree_giniNone     0.803182                      -0.219895   \n",
              "\n",
              "                          disparate_impact  equal_opportunity_difference  \n",
              "DecisionTree_entropy2             0.688326                     -0.001294  \n",
              "DecisionTree_gini2                0.688326                     -0.001294  \n",
              "DecisionTree_entropy26            0.000000                     -0.466133  \n",
              "DecisionTree_gini26               0.000000                     -0.466133  \n",
              "DecisionTree_entropy51            0.000000                     -0.466133  \n",
              "DecisionTree_gini51               0.000000                     -0.466133  \n",
              "DecisionTree_entropy100           0.000000                     -0.466133  \n",
              "DecisionTree_gini100              0.000000                     -0.466133  \n",
              "DecisionTree_entropyNone          0.000000                     -0.466133  \n",
              "DecisionTree_giniNone             0.000000                     -0.466133  "
            ],
            "text/html": [
              "\n",
              "  <div id=\"df-91a94a56-9709-49c2-89c7-a7fbbf102676\">\n",
              "    <div class=\"colab-df-container\">\n",
              "      <div>\n",
              "<style scoped>\n",
              "    .dataframe tbody tr th:only-of-type {\n",
              "        vertical-align: middle;\n",
              "    }\n",
              "\n",
              "    .dataframe tbody tr th {\n",
              "        vertical-align: top;\n",
              "    }\n",
              "\n",
              "    .dataframe thead th {\n",
              "        text-align: right;\n",
              "    }\n",
              "</style>\n",
              "<table border=\"1\" class=\"dataframe\">\n",
              "  <thead>\n",
              "    <tr style=\"text-align: right;\">\n",
              "      <th></th>\n",
              "      <th>Accuracy</th>\n",
              "      <th>statistical_parity_difference</th>\n",
              "      <th>disparate_impact</th>\n",
              "      <th>equal_opportunity_difference</th>\n",
              "    </tr>\n",
              "  </thead>\n",
              "  <tbody>\n",
              "    <tr>\n",
              "      <th>DecisionTree_entropy2</th>\n",
              "      <td>0.785136</td>\n",
              "      <td>-0.069646</td>\n",
              "      <td>0.688326</td>\n",
              "      <td>-0.001294</td>\n",
              "    </tr>\n",
              "    <tr>\n",
              "      <th>DecisionTree_gini2</th>\n",
              "      <td>0.785136</td>\n",
              "      <td>-0.069646</td>\n",
              "      <td>0.688326</td>\n",
              "      <td>-0.001294</td>\n",
              "    </tr>\n",
              "    <tr>\n",
              "      <th>DecisionTree_entropy26</th>\n",
              "      <td>0.803182</td>\n",
              "      <td>-0.219895</td>\n",
              "      <td>0.000000</td>\n",
              "      <td>-0.466133</td>\n",
              "    </tr>\n",
              "    <tr>\n",
              "      <th>DecisionTree_gini26</th>\n",
              "      <td>0.803182</td>\n",
              "      <td>-0.219895</td>\n",
              "      <td>0.000000</td>\n",
              "      <td>-0.466133</td>\n",
              "    </tr>\n",
              "    <tr>\n",
              "      <th>DecisionTree_entropy51</th>\n",
              "      <td>0.803182</td>\n",
              "      <td>-0.219895</td>\n",
              "      <td>0.000000</td>\n",
              "      <td>-0.466133</td>\n",
              "    </tr>\n",
              "    <tr>\n",
              "      <th>DecisionTree_gini51</th>\n",
              "      <td>0.803182</td>\n",
              "      <td>-0.219895</td>\n",
              "      <td>0.000000</td>\n",
              "      <td>-0.466133</td>\n",
              "    </tr>\n",
              "    <tr>\n",
              "      <th>DecisionTree_entropy100</th>\n",
              "      <td>0.803182</td>\n",
              "      <td>-0.219895</td>\n",
              "      <td>0.000000</td>\n",
              "      <td>-0.466133</td>\n",
              "    </tr>\n",
              "    <tr>\n",
              "      <th>DecisionTree_gini100</th>\n",
              "      <td>0.803182</td>\n",
              "      <td>-0.219895</td>\n",
              "      <td>0.000000</td>\n",
              "      <td>-0.466133</td>\n",
              "    </tr>\n",
              "    <tr>\n",
              "      <th>DecisionTree_entropyNone</th>\n",
              "      <td>0.803182</td>\n",
              "      <td>-0.219895</td>\n",
              "      <td>0.000000</td>\n",
              "      <td>-0.466133</td>\n",
              "    </tr>\n",
              "    <tr>\n",
              "      <th>DecisionTree_giniNone</th>\n",
              "      <td>0.803182</td>\n",
              "      <td>-0.219895</td>\n",
              "      <td>0.000000</td>\n",
              "      <td>-0.466133</td>\n",
              "    </tr>\n",
              "  </tbody>\n",
              "</table>\n",
              "</div>\n",
              "      <button class=\"colab-df-convert\" onclick=\"convertToInteractive('df-91a94a56-9709-49c2-89c7-a7fbbf102676')\"\n",
              "              title=\"Convert this dataframe to an interactive table.\"\n",
              "              style=\"display:none;\">\n",
              "        \n",
              "  <svg xmlns=\"http://www.w3.org/2000/svg\" height=\"24px\"viewBox=\"0 0 24 24\"\n",
              "       width=\"24px\">\n",
              "    <path d=\"M0 0h24v24H0V0z\" fill=\"none\"/>\n",
              "    <path d=\"M18.56 5.44l.94 2.06.94-2.06 2.06-.94-2.06-.94-.94-2.06-.94 2.06-2.06.94zm-11 1L8.5 8.5l.94-2.06 2.06-.94-2.06-.94L8.5 2.5l-.94 2.06-2.06.94zm10 10l.94 2.06.94-2.06 2.06-.94-2.06-.94-.94-2.06-.94 2.06-2.06.94z\"/><path d=\"M17.41 7.96l-1.37-1.37c-.4-.4-.92-.59-1.43-.59-.52 0-1.04.2-1.43.59L10.3 9.45l-7.72 7.72c-.78.78-.78 2.05 0 2.83L4 21.41c.39.39.9.59 1.41.59.51 0 1.02-.2 1.41-.59l7.78-7.78 2.81-2.81c.8-.78.8-2.07 0-2.86zM5.41 20L4 18.59l7.72-7.72 1.47 1.35L5.41 20z\"/>\n",
              "  </svg>\n",
              "      </button>\n",
              "      \n",
              "  <style>\n",
              "    .colab-df-container {\n",
              "      display:flex;\n",
              "      flex-wrap:wrap;\n",
              "      gap: 12px;\n",
              "    }\n",
              "\n",
              "    .colab-df-convert {\n",
              "      background-color: #E8F0FE;\n",
              "      border: none;\n",
              "      border-radius: 50%;\n",
              "      cursor: pointer;\n",
              "      display: none;\n",
              "      fill: #1967D2;\n",
              "      height: 32px;\n",
              "      padding: 0 0 0 0;\n",
              "      width: 32px;\n",
              "    }\n",
              "\n",
              "    .colab-df-convert:hover {\n",
              "      background-color: #E2EBFA;\n",
              "      box-shadow: 0px 1px 2px rgba(60, 64, 67, 0.3), 0px 1px 3px 1px rgba(60, 64, 67, 0.15);\n",
              "      fill: #174EA6;\n",
              "    }\n",
              "\n",
              "    [theme=dark] .colab-df-convert {\n",
              "      background-color: #3B4455;\n",
              "      fill: #D2E3FC;\n",
              "    }\n",
              "\n",
              "    [theme=dark] .colab-df-convert:hover {\n",
              "      background-color: #434B5C;\n",
              "      box-shadow: 0px 1px 3px 1px rgba(0, 0, 0, 0.15);\n",
              "      filter: drop-shadow(0px 1px 2px rgba(0, 0, 0, 0.3));\n",
              "      fill: #FFFFFF;\n",
              "    }\n",
              "  </style>\n",
              "\n",
              "      <script>\n",
              "        const buttonEl =\n",
              "          document.querySelector('#df-91a94a56-9709-49c2-89c7-a7fbbf102676 button.colab-df-convert');\n",
              "        buttonEl.style.display =\n",
              "          google.colab.kernel.accessAllowed ? 'block' : 'none';\n",
              "\n",
              "        async function convertToInteractive(key) {\n",
              "          const element = document.querySelector('#df-91a94a56-9709-49c2-89c7-a7fbbf102676');\n",
              "          const dataTable =\n",
              "            await google.colab.kernel.invokeFunction('convertToInteractive',\n",
              "                                                     [key], {});\n",
              "          if (!dataTable) return;\n",
              "\n",
              "          const docLinkHtml = 'Like what you see? Visit the ' +\n",
              "            '<a target=\"_blank\" href=https://colab.research.google.com/notebooks/data_table.ipynb>data table notebook</a>'\n",
              "            + ' to learn more about interactive tables.';\n",
              "          element.innerHTML = '';\n",
              "          dataTable['output_type'] = 'display_data';\n",
              "          await google.colab.output.renderOutput(dataTable, element);\n",
              "          const docLink = document.createElement('div');\n",
              "          docLink.innerHTML = docLinkHtml;\n",
              "          element.appendChild(docLink);\n",
              "        }\n",
              "      </script>\n",
              "    </div>\n",
              "  </div>\n",
              "  "
            ]
          },
          "metadata": {},
          "execution_count": 17
        }
      ]
    },
    {
      "cell_type": "markdown",
      "source": [
        "### Task 1.3 German dataset results"
      ],
      "metadata": {
        "id": "U87JcqNCBOwJ"
      }
    },
    {
      "cell_type": "code",
      "source": [
        "start = time.time()#this is to measure elapsed time\n",
        "results_1,test_data_1,train_data_1 = task1_vanilla_test(load_preproc_data_german)\n",
        "df_1 = retrive_metrics_dataframe(results_1)\n",
        "end = time.time()\n",
        "total = end - start\n",
        "print('Total elapsed time was',total)\n",
        "df_1"
      ],
      "metadata": {
        "id": "h2wfcm6aGBgl",
        "colab": {
          "base_uri": "https://localhost:8080/",
          "height": 430
        },
        "outputId": "b62780ce-3529-4c82-ddb7-b3ec088ebee3"
      },
      "execution_count": 18,
      "outputs": [
        {
          "output_type": "stream",
          "name": "stdout",
          "text": [
            "training data size (700, 11)\n",
            "dataset feature names ['age', 'sex', 'credit_history=Delay', 'credit_history=None/Paid', 'credit_history=Other', 'savings=500+', 'savings=<500', 'savings=Unknown/None', 'employment=1-4 years', 'employment=4+ years', 'employment=Unemployed']\n",
            "Total elapsed time was 0.2506377696990967\n"
          ]
        },
        {
          "output_type": "execute_result",
          "data": {
            "text/plain": [
              "                          Accuracy  statistical_parity_difference  \\\n",
              "DecisionTree_entropy2          0.7                       0.000000   \n",
              "DecisionTree_gini2             0.7                       0.000000   \n",
              "DecisionTree_entropy26         0.7                      -0.147335   \n",
              "DecisionTree_gini26            0.7                      -0.147335   \n",
              "DecisionTree_entropy51         0.7                      -0.147335   \n",
              "DecisionTree_gini51            0.7                      -0.147335   \n",
              "DecisionTree_entropy100        0.7                      -0.147335   \n",
              "DecisionTree_gini100           0.7                      -0.147335   \n",
              "DecisionTree_entropyNone       0.7                      -0.147335   \n",
              "DecisionTree_giniNone          0.7                      -0.147335   \n",
              "\n",
              "                          disparate_impact  equal_opportunity_difference  \n",
              "DecisionTree_entropy2             1.000000                      0.000000  \n",
              "DecisionTree_gini2                1.000000                      0.000000  \n",
              "DecisionTree_entropy26            0.843343                     -0.090769  \n",
              "DecisionTree_gini26               0.843343                     -0.090769  \n",
              "DecisionTree_entropy51            0.843343                     -0.090769  \n",
              "DecisionTree_gini51               0.843343                     -0.090769  \n",
              "DecisionTree_entropy100           0.843343                     -0.090769  \n",
              "DecisionTree_gini100              0.843343                     -0.090769  \n",
              "DecisionTree_entropyNone          0.843343                     -0.090769  \n",
              "DecisionTree_giniNone             0.843343                     -0.090769  "
            ],
            "text/html": [
              "\n",
              "  <div id=\"df-0befed3a-41c4-4084-b13c-df4460402c0e\">\n",
              "    <div class=\"colab-df-container\">\n",
              "      <div>\n",
              "<style scoped>\n",
              "    .dataframe tbody tr th:only-of-type {\n",
              "        vertical-align: middle;\n",
              "    }\n",
              "\n",
              "    .dataframe tbody tr th {\n",
              "        vertical-align: top;\n",
              "    }\n",
              "\n",
              "    .dataframe thead th {\n",
              "        text-align: right;\n",
              "    }\n",
              "</style>\n",
              "<table border=\"1\" class=\"dataframe\">\n",
              "  <thead>\n",
              "    <tr style=\"text-align: right;\">\n",
              "      <th></th>\n",
              "      <th>Accuracy</th>\n",
              "      <th>statistical_parity_difference</th>\n",
              "      <th>disparate_impact</th>\n",
              "      <th>equal_opportunity_difference</th>\n",
              "    </tr>\n",
              "  </thead>\n",
              "  <tbody>\n",
              "    <tr>\n",
              "      <th>DecisionTree_entropy2</th>\n",
              "      <td>0.7</td>\n",
              "      <td>0.000000</td>\n",
              "      <td>1.000000</td>\n",
              "      <td>0.000000</td>\n",
              "    </tr>\n",
              "    <tr>\n",
              "      <th>DecisionTree_gini2</th>\n",
              "      <td>0.7</td>\n",
              "      <td>0.000000</td>\n",
              "      <td>1.000000</td>\n",
              "      <td>0.000000</td>\n",
              "    </tr>\n",
              "    <tr>\n",
              "      <th>DecisionTree_entropy26</th>\n",
              "      <td>0.7</td>\n",
              "      <td>-0.147335</td>\n",
              "      <td>0.843343</td>\n",
              "      <td>-0.090769</td>\n",
              "    </tr>\n",
              "    <tr>\n",
              "      <th>DecisionTree_gini26</th>\n",
              "      <td>0.7</td>\n",
              "      <td>-0.147335</td>\n",
              "      <td>0.843343</td>\n",
              "      <td>-0.090769</td>\n",
              "    </tr>\n",
              "    <tr>\n",
              "      <th>DecisionTree_entropy51</th>\n",
              "      <td>0.7</td>\n",
              "      <td>-0.147335</td>\n",
              "      <td>0.843343</td>\n",
              "      <td>-0.090769</td>\n",
              "    </tr>\n",
              "    <tr>\n",
              "      <th>DecisionTree_gini51</th>\n",
              "      <td>0.7</td>\n",
              "      <td>-0.147335</td>\n",
              "      <td>0.843343</td>\n",
              "      <td>-0.090769</td>\n",
              "    </tr>\n",
              "    <tr>\n",
              "      <th>DecisionTree_entropy100</th>\n",
              "      <td>0.7</td>\n",
              "      <td>-0.147335</td>\n",
              "      <td>0.843343</td>\n",
              "      <td>-0.090769</td>\n",
              "    </tr>\n",
              "    <tr>\n",
              "      <th>DecisionTree_gini100</th>\n",
              "      <td>0.7</td>\n",
              "      <td>-0.147335</td>\n",
              "      <td>0.843343</td>\n",
              "      <td>-0.090769</td>\n",
              "    </tr>\n",
              "    <tr>\n",
              "      <th>DecisionTree_entropyNone</th>\n",
              "      <td>0.7</td>\n",
              "      <td>-0.147335</td>\n",
              "      <td>0.843343</td>\n",
              "      <td>-0.090769</td>\n",
              "    </tr>\n",
              "    <tr>\n",
              "      <th>DecisionTree_giniNone</th>\n",
              "      <td>0.7</td>\n",
              "      <td>-0.147335</td>\n",
              "      <td>0.843343</td>\n",
              "      <td>-0.090769</td>\n",
              "    </tr>\n",
              "  </tbody>\n",
              "</table>\n",
              "</div>\n",
              "      <button class=\"colab-df-convert\" onclick=\"convertToInteractive('df-0befed3a-41c4-4084-b13c-df4460402c0e')\"\n",
              "              title=\"Convert this dataframe to an interactive table.\"\n",
              "              style=\"display:none;\">\n",
              "        \n",
              "  <svg xmlns=\"http://www.w3.org/2000/svg\" height=\"24px\"viewBox=\"0 0 24 24\"\n",
              "       width=\"24px\">\n",
              "    <path d=\"M0 0h24v24H0V0z\" fill=\"none\"/>\n",
              "    <path d=\"M18.56 5.44l.94 2.06.94-2.06 2.06-.94-2.06-.94-.94-2.06-.94 2.06-2.06.94zm-11 1L8.5 8.5l.94-2.06 2.06-.94-2.06-.94L8.5 2.5l-.94 2.06-2.06.94zm10 10l.94 2.06.94-2.06 2.06-.94-2.06-.94-.94-2.06-.94 2.06-2.06.94z\"/><path d=\"M17.41 7.96l-1.37-1.37c-.4-.4-.92-.59-1.43-.59-.52 0-1.04.2-1.43.59L10.3 9.45l-7.72 7.72c-.78.78-.78 2.05 0 2.83L4 21.41c.39.39.9.59 1.41.59.51 0 1.02-.2 1.41-.59l7.78-7.78 2.81-2.81c.8-.78.8-2.07 0-2.86zM5.41 20L4 18.59l7.72-7.72 1.47 1.35L5.41 20z\"/>\n",
              "  </svg>\n",
              "      </button>\n",
              "      \n",
              "  <style>\n",
              "    .colab-df-container {\n",
              "      display:flex;\n",
              "      flex-wrap:wrap;\n",
              "      gap: 12px;\n",
              "    }\n",
              "\n",
              "    .colab-df-convert {\n",
              "      background-color: #E8F0FE;\n",
              "      border: none;\n",
              "      border-radius: 50%;\n",
              "      cursor: pointer;\n",
              "      display: none;\n",
              "      fill: #1967D2;\n",
              "      height: 32px;\n",
              "      padding: 0 0 0 0;\n",
              "      width: 32px;\n",
              "    }\n",
              "\n",
              "    .colab-df-convert:hover {\n",
              "      background-color: #E2EBFA;\n",
              "      box-shadow: 0px 1px 2px rgba(60, 64, 67, 0.3), 0px 1px 3px 1px rgba(60, 64, 67, 0.15);\n",
              "      fill: #174EA6;\n",
              "    }\n",
              "\n",
              "    [theme=dark] .colab-df-convert {\n",
              "      background-color: #3B4455;\n",
              "      fill: #D2E3FC;\n",
              "    }\n",
              "\n",
              "    [theme=dark] .colab-df-convert:hover {\n",
              "      background-color: #434B5C;\n",
              "      box-shadow: 0px 1px 3px 1px rgba(0, 0, 0, 0.15);\n",
              "      filter: drop-shadow(0px 1px 2px rgba(0, 0, 0, 0.3));\n",
              "      fill: #FFFFFF;\n",
              "    }\n",
              "  </style>\n",
              "\n",
              "      <script>\n",
              "        const buttonEl =\n",
              "          document.querySelector('#df-0befed3a-41c4-4084-b13c-df4460402c0e button.colab-df-convert');\n",
              "        buttonEl.style.display =\n",
              "          google.colab.kernel.accessAllowed ? 'block' : 'none';\n",
              "\n",
              "        async function convertToInteractive(key) {\n",
              "          const element = document.querySelector('#df-0befed3a-41c4-4084-b13c-df4460402c0e');\n",
              "          const dataTable =\n",
              "            await google.colab.kernel.invokeFunction('convertToInteractive',\n",
              "                                                     [key], {});\n",
              "          if (!dataTable) return;\n",
              "\n",
              "          const docLinkHtml = 'Like what you see? Visit the ' +\n",
              "            '<a target=\"_blank\" href=https://colab.research.google.com/notebooks/data_table.ipynb>data table notebook</a>'\n",
              "            + ' to learn more about interactive tables.';\n",
              "          element.innerHTML = '';\n",
              "          dataTable['output_type'] = 'display_data';\n",
              "          await google.colab.output.renderOutput(dataTable, element);\n",
              "          const docLink = document.createElement('div');\n",
              "          docLink.innerHTML = docLinkHtml;\n",
              "          element.appendChild(docLink);\n",
              "        }\n",
              "      </script>\n",
              "    </div>\n",
              "  </div>\n",
              "  "
            ]
          },
          "metadata": {},
          "execution_count": 18
        }
      ]
    },
    {
      "cell_type": "code",
      "source": [
        "#fig = plt.figure(figsize=(10,5))\n",
        "\n",
        "fig, ax = plt.subplots(2, 1,figsize=(10,7))\n",
        "\n",
        "ax[0].plot(df['Accuracy']) #row=0, col=0\n",
        "ax[1].plot(df_1['Accuracy']) #row=0, col=0\n",
        "\n",
        "ax[0].set(ylabel=\"Accuracy (%)\",title=\"Experiment on impact of trade-off hyperparameter Adult Dataset (Accuracy)\")\n",
        "ax[1].set(ylabel=\"Accuracy (%)\",title=\"Experiment on impact of trade-off hyperparameter German Dataset (Accuracy)\")\n",
        "\n",
        "#reference:https://stackabuse.com/rotate-axis-labels-in-matplotlib/\n",
        "fig.autofmt_xdate()#Rotate ticks to Fit in Matplotlib\n",
        "fig.tight_layout()\n",
        "plt.legend()\n",
        "plt.show()"
      ],
      "metadata": {
        "id": "2lVKcgIxdnGf",
        "colab": {
          "base_uri": "https://localhost:8080/",
          "height": 530
        },
        "outputId": "0b27a854-e494-4c0e-cb0e-f8b7412fab54"
      },
      "execution_count": 19,
      "outputs": [
        {
          "output_type": "stream",
          "name": "stderr",
          "text": [
            "No handles with labels found to put in legend.\n"
          ]
        },
        {
          "output_type": "display_data",
          "data": {
            "text/plain": [
              "<Figure size 720x504 with 2 Axes>"
            ],
            "image/png": "[encoded data removed]"
          },
          "metadata": {
            "needs_background": "light"
          }
        }
      ]
    },
    {
      "cell_type": "code",
      "source": [
        "fig = plt.figure(figsize=(10,7))\n",
        "\n",
        "plt.plot(df['equal_opportunity_difference'],label='Adult Dataset') #row=0, col=1\n",
        "plt.plot(df_1['equal_opportunity_difference'],label='German Dataset') #row=1, col=1\n",
        "plt.ylabel('Equal opportunity difference') \n",
        "plt.title(\"Experiment on impact of of trade-off hyperparameter  (Equal opportunity)\")\n",
        "#reference:https://stackabuse.com/rotate-axis-labels-in-matplotlib/\n",
        "fig.autofmt_xdate()#Rotate ticks to Fit in Matplotlib\n",
        "fig.tight_layout()\n",
        "plt.legend()\n",
        "plt.show()"
      ],
      "metadata": {
        "colab": {
          "base_uri": "https://localhost:8080/",
          "height": 513
        },
        "id": "Ta_dPS1NqUYF",
        "outputId": "fe60cc72-741a-4cf1-c9f3-69fece6a9b2f"
      },
      "execution_count": 20,
      "outputs": [
        {
          "output_type": "display_data",
          "data": {
            "text/plain": [
              "<Figure size 720x504 with 1 Axes>"
            ],
            "image/png": "[encoded data removed]"
          },
          "metadata": {
            "needs_background": "light"
          }
        }
      ]
    },
    {
      "cell_type": "code",
      "source": [
        "#extra fariness metrics\n",
        "fig = plt.figure(figsize=(10,5))\n",
        "\n",
        "fig, ax = plt.subplots(2, 1,figsize=(15,10))\n",
        "\n",
        "ax[0].plot(df['disparate_impact'],label='Adult Dataset') #row=0, col=0\n",
        "ax[0].plot(df_1['disparate_impact'],label='German Dataset') #row=0, col=0\n",
        "ax[1].plot(df['statistical_parity_difference'],label='Adult Dataset') #row=0, col=1\n",
        "ax[1].plot(df_1['statistical_parity_difference'],label='German Dataset') #row=1, col=1\n",
        "\n",
        "ax[0].set(ylabel=\"Disparate impact\",title=\"Experiment on impact of trade-off hyperparameter Adult Dataset\")\n",
        "ax[0].set(ylabel=\"Disparate impact\",title=\"Experiment on impact of trade-off hyperparameter German Dataset\")\n",
        "ax[1].set(ylabel=\"Statistical parity difference\",title=\"Experiment on impact of of trade-off hyperparameter Adult Dataset\")\n",
        "ax[1].set(ylabel=\"Statistical parity difference\",title=\"Experiment on impact of trade-off hyperparameter German Dataset\")\n",
        "\n",
        "#reference:https://stackabuse.com/rotate-axis-labels-in-matplotlib/\n",
        "fig.autofmt_xdate()#Rotate ticks to Fit in Matplotlib\n",
        "fig.tight_layout()\n",
        "ax[0].legend()\n",
        "ax[1].legend()\n",
        "plt.show()"
      ],
      "metadata": {
        "colab": {
          "base_uri": "https://localhost:8080/",
          "height": 746
        },
        "id": "mVy75sdp6Awx",
        "outputId": "5bb40fe2-ada1-4c6f-bd20-293c44a234f0"
      },
      "execution_count": 21,
      "outputs": [
        {
          "output_type": "display_data",
          "data": {
            "text/plain": [
              "<Figure size 720x360 with 0 Axes>"
            ]
          },
          "metadata": {}
        },
        {
          "output_type": "display_data",
          "data": {
            "text/plain": [
              "<Figure size 1080x720 with 2 Axes>"
            ],
            "image/png": "[encoded data removed]"
          },
          "metadata": {
            "needs_background": "light"
          }
        }
      ]
    },
    {
      "cell_type": "markdown",
      "source": [
        "### Task 1.4 Results using the best models "
      ],
      "metadata": {
        "id": "ehcdyX9hoxg3"
      }
    },
    {
      "cell_type": "code",
      "source": [
        "def fit_traintest(data1_train,criterions,max_depts):\n",
        "\n",
        "  scale = StandardScaler()\n",
        "  #refit on the whole training data; so return that section as well.\n",
        "  X_train_ = scale.fit_transform(data1_train.features)\n",
        "  y_train_ = data1_train.labels.ravel()\n",
        "\n",
        "  X_test_ = scale.transform(data1_train.features) \n",
        "  y_test_ = data1_train.labels.ravel()\n",
        "\n",
        "  learner = DecisionTreeClassifier(criterion=criterions, max_depth=max_depts)  \n",
        "  learner.fit(X_train_,y_train_)\n",
        "  predictions = learner.predict(X_test_)\n",
        "\n",
        "  test_pred = data1_train.copy()\n",
        "  test_pred.labels = predictions\n",
        "  model_acc = sum(predictions==y_test_)/len(y_test_)\n",
        "\n",
        "  privileged_groups = [{'sex': 1}]\n",
        "  unprivileged_groups = [{'sex': 0}]\n",
        "  metric = ClassificationMetric(data1_train, test_pred, unprivileged_groups=unprivileged_groups, privileged_groups=privileged_groups)\n",
        "  metric_equal_opp = metric.equal_opportunity_difference()\n",
        "  print(\"Accuracy\", model_acc,'Equal oppportunity metric',metric_equal_opp)\n"
      ],
      "metadata": {
        "id": "dJqQDy5VqTNW"
      },
      "execution_count": 22,
      "outputs": []
    },
    {
      "cell_type": "code",
      "source": [
        "print('Results from Adult Dataset')\n",
        "print('Model with highest accuracy',df['Accuracy'].idxmax(),df['Accuracy'].max())\n",
        "print('Model with highest fairness',df['equal_opportunity_difference'].idxmax(),df['equal_opportunity_difference'].max())"
      ],
      "metadata": {
        "id": "aVM67JO3oKhf",
        "colab": {
          "base_uri": "https://localhost:8080/"
        },
        "outputId": "90a81052-f3a1-46ee-923e-24c434531217"
      },
      "execution_count": 23,
      "outputs": [
        {
          "output_type": "stream",
          "name": "stdout",
          "text": [
            "Results from Adult Dataset\n",
            "Model with highest accuracy DecisionTree_entropy26 0.8031823684618169\n",
            "Model with highest fairness DecisionTree_entropy2 -0.0012944176234189753\n"
          ]
        }
      ]
    },
    {
      "cell_type": "code",
      "source": [
        "print('The model with the best accuracy score has the followig metrics: ')\n",
        "fit_traintest(train_data,criterions='entropy',max_depts=26)\n",
        "print('The model with the best fairness score the followig accuracies: ')\n",
        "fit_traintest(train_data,criterions='entropy',max_depts=2)"
      ],
      "metadata": {
        "id": "1uFknr25HmDk",
        "colab": {
          "base_uri": "https://localhost:8080/"
        },
        "outputId": "75c46f79-6991-4c09-8671-ead72d8b655e"
      },
      "execution_count": 24,
      "outputs": [
        {
          "output_type": "stream",
          "name": "stdout",
          "text": [
            "The model with the best accuracy score has the followig metrics: \n",
            "Accuracy 0.8040890344847758 Equal oppportunity metric -0.4640709991411394\n",
            "The model with the best fairness score the followig accuracies: \n",
            "Accuracy 0.7851355699201498 Equal oppportunity metric -0.00011847155402555654\n"
          ]
        }
      ]
    },
    {
      "cell_type": "code",
      "source": [
        "print('Results from German Dataset')\n",
        "print('Model with highest accuracy',df_1['Accuracy'].idxmax(),df_1['Accuracy'].max())\n",
        "print('Model with highest fairness',df_1['equal_opportunity_difference'].idxmax(),df_1['equal_opportunity_difference'].max())"
      ],
      "metadata": {
        "id": "nYEpYmSdo50u",
        "colab": {
          "base_uri": "https://localhost:8080/"
        },
        "outputId": "7cc7b3b5-aade-43e2-8569-24b9c6e5ea36"
      },
      "execution_count": 25,
      "outputs": [
        {
          "output_type": "stream",
          "name": "stdout",
          "text": [
            "Results from German Dataset\n",
            "Model with highest accuracy DecisionTree_entropy2 0.7\n",
            "Model with highest fairness DecisionTree_entropy2 0.0\n"
          ]
        }
      ]
    },
    {
      "cell_type": "code",
      "source": [
        "print('The model with the best accuracy score has the followig metrics: ')\n",
        "fit_traintest(train_data_1,criterions='entropy',max_depts=26)\n",
        "print('The model with the best fairness score the followig accuracies: ')\n",
        "fit_traintest(train_data_1,criterions='entropy',max_depts=2)"
      ],
      "metadata": {
        "id": "XhDRvRb_Hjtk",
        "colab": {
          "base_uri": "https://localhost:8080/"
        },
        "outputId": "e69c7412-d98f-43bf-81e1-77f988cc15b3"
      },
      "execution_count": 26,
      "outputs": [
        {
          "output_type": "stream",
          "name": "stdout",
          "text": [
            "The model with the best accuracy score has the followig metrics: \n",
            "Accuracy 0.7271428571428571 Equal oppportunity metric -0.09225387306346833\n",
            "The model with the best fairness score the followig accuracies: \n",
            "Accuracy 0.7 Equal oppportunity metric 0.0\n"
          ]
        }
      ]
    },
    {
      "cell_type": "markdown",
      "source": [
        "## Task2: \n",
        "\n",
        "Now choose an algorithmic fairness method, e.g. reweighing (Lecture 7), and perform the same analysis, i.e. how varying the hyperparameter(s) impacts accuracy and fairness metrics during model selection.\n",
        "\n",
        "Specifically, using the same 5-fold cross validation as in Task 1, perform validation by varying the trade-off hyperparameter and select (3) the model with the highest accuracy, and (4) the model with the best fairness metric across 5 folds. After model selection, compute and report\n",
        "final accuracy and fairness for both models (3) and (4) on the test set."
      ],
      "metadata": {
        "id": "rbvlKP9C2PFz"
      }
    },
    {
      "cell_type": "code",
      "source": [
        "start = time.time()#this is to measure elapsed time\n",
        "\n",
        "def task2_vanilla_test(load_preproc=load_preproc_data_adult):\n",
        "\n",
        "  privileged_groups = [{'sex': 1}]\n",
        "  unprivileged_groups = [{'sex': 0}]\n",
        "  dataset_orig = load_preproc(['sex'])\n",
        "\n",
        "  #STEP 3: We split between training and test set.\n",
        "  train_, test_ = dataset_orig.split([0.7], shuffle=True)\n",
        "  print(\"training data size\", train_.features.shape)\n",
        "  print(\"dataset feature names\", train_.feature_names)\n",
        "\n",
        "  kf = KFold(n_splits=5, random_state=41, shuffle=True)\n",
        "  results_ = {}\n",
        "\n",
        "  # Different criterions\n",
        "  criterions = ['gini', 'entropy']\n",
        "  # Maximum number of levels in tree\n",
        "  max_depth = [int(x) for x in np.linspace(2, 100, num = 5)]\n",
        "  max_depth.append(None)\n",
        "\n",
        "  for criterion_1 in criterions:\n",
        "    for depth in max_depth:\n",
        "        for fold_num,(train_index, test_index) in enumerate(kf.split(train_.features)):\n",
        "\n",
        "          trainining_ = train_.subset(train_index)\n",
        "          testing_ = train_.subset(test_index)\n",
        "\n",
        "          #Normalize the dataset, both train and test. This should always be done in any machine learning pipeline!\n",
        "          scale = StandardScaler()\n",
        "\n",
        "          X_train_ = scale.fit_transform(trainining_.features)\n",
        "          y_train_ = trainining_.labels.ravel()\n",
        "\n",
        "          X_test_ = scale.transform(testing_.features) \n",
        "          y_test_ = testing_.labels.ravel()\n",
        "\n",
        "          #STEP 5: Mitigate the bias, e.g. by transforming the original dataset via DisparateImpactRemover.\n",
        "          di = DisparateImpactRemover(sensitive_attribute='sex',repair_level = 0.85)\n",
        "          #We obtain a set of weights for the training set, to use in scikit-learn.\n",
        "          trainining_weight = di.fit_transform(trainining_)\n",
        "    \n",
        "          #STEP 6: fitting and predicting our labels using our classification algorithm\n",
        "          learner = DecisionTreeClassifier(criterion=criterion_1,max_depth=depth)  \n",
        "          learner.fit(X_train_,y_train_,sample_weight=trainining_weight.instance_weights)\n",
        "          predictions = learner.predict(X_test_)\n",
        "          model_acc = sum(predictions==y_test_)/len(y_test_)\n",
        "\n",
        "          test_pred = testing_.copy()\n",
        "          test_pred.labels = predictions\n",
        "\n",
        "          #STEP 7: Post processing algorithm callibrated equal odds\n",
        "          CPP = CalibratedEqOddsPostprocessing(privileged_groups = privileged_groups,\n",
        "                                              unprivileged_groups = unprivileged_groups,\n",
        "                                              cost_constraint=\"weighted\",\n",
        "                                              seed=42)\n",
        "\n",
        "          CPP = CPP.fit(testing_, test_pred)\n",
        "          transf_test_pred = CPP.predict(test_pred)\n",
        "\n",
        "          #STEP 8: Retrieving the fairness metrics from our classification algorithm after pre and post processing\n",
        "          metric_pred = ClassificationMetric(testing_, transf_test_pred, unprivileged_groups=unprivileged_groups, privileged_groups=privileged_groups)\n",
        "          classified_metric = ClassificationMetric(testing_, transf_test_pred, unprivileged_groups=unprivileged_groups, privileged_groups=privileged_groups)\n",
        "\n",
        "          #retrieving metrics from the classifier. The accuracies include percentage of true pred, statistical parity difference, disparate impact and equal opportunity.\n",
        "          result = {'Accuracy':model_acc,'statistical_parity_difference': metric_pred.statistical_parity_difference(),\n",
        "                    'disparate_impact': metric_pred.disparate_impact(),'equal_opportunity_difference': classified_metric.equal_opportunity_difference()}\n",
        "\n",
        "          results_[str(fold_num)+'DecisionTree_'+str(criterion_1)+str(depth)]=result#saving the results of the decision tree classifier \n",
        "  return results_,test_,train_\n",
        "end = time.time()\n",
        "total = end - start\n",
        "print('Total elapsed time was',total)"
      ],
      "metadata": {
        "id": "lpijBkJkkut7",
        "colab": {
          "base_uri": "https://localhost:8080/"
        },
        "outputId": "67423487-6e12-40cd-b862-9af9411cae33"
      },
      "execution_count": 29,
      "outputs": [
        {
          "output_type": "stream",
          "name": "stdout",
          "text": [
            "Total elapsed time was 0.0007011890411376953\n"
          ]
        }
      ]
    },
    {
      "cell_type": "code",
      "source": [
        "start = time.time()#this is to measure elapsed time\n",
        "\n",
        "def task2_vanilla_test_extra(load_preproc=load_preproc_data_adult):\n",
        "\n",
        "  privileged_groups = [{'sex': 1}]\n",
        "  unprivileged_groups = [{'sex': 0}]\n",
        "  dataset_orig = load_preproc(['sex'])\n",
        "\n",
        "  #STEP 3: We split between training and test set.\n",
        "  train_, test_ = dataset_orig.split([0.7], shuffle=True)\n",
        "  print(\"training data size\", train_.features.shape)\n",
        "  print(\"dataset feature names\", train_.feature_names)\n",
        "\n",
        "  kf = KFold(n_splits=5, random_state=41, shuffle=True)\n",
        "  results_ = {}\n",
        "\n",
        "  # Different criterions\n",
        "  criterions = ['gini', 'entropy']\n",
        "  # Maximum number of levels in tree\n",
        "  max_depth = [int(x) for x in np.linspace(2, 100, num = 5)]\n",
        "  max_depth.append(None)\n",
        "\n",
        "  for criterion_1 in criterions:\n",
        "\n",
        "    for depth in max_depth:\n",
        "\n",
        "      for fold_num,(train_index, test_index) in enumerate(kf.split(train_.features)):\n",
        "\n",
        "        trainining_ = train_.subset(train_index)\n",
        "        testing_ = train_.subset(test_index)\n",
        "\n",
        "        #Normalize the dataset, both train and test. This should always be done in any machine learning pipeline!\n",
        "        scale = StandardScaler()\n",
        "\n",
        "        X_train_ = scale.fit_transform(trainining_.features)\n",
        "        y_train_ = trainining_.labels.ravel()\n",
        "\n",
        "        X_test_ = scale.transform(testing_.features) \n",
        "        y_test_ = testing_.labels.ravel()\n",
        "\n",
        "        #STEP 5: Mitigate the bias, e.g. by transforming the original dataset via DisparateImpactRemover.\n",
        "        di = DisparateImpactRemover(sensitive_attribute='sex',repair_level = 0.85)\n",
        "        #We obtain a set of weights for the training set, to use in scikit-learn.\n",
        "        trainining_weight = di.fit_transform(trainining_)\n",
        "    \n",
        "        #STEP 6: fitting and predicting using our classification algorithm\n",
        "        learner = DecisionTreeClassifier(criterion=criterion_1,max_depth=depth)  \n",
        "        learner.fit(X_train_,y_train_,sample_weight=trainining_weight.instance_weights)\n",
        "        predictions = learner.predict(X_test_)\n",
        "        model_acc = sum(predictions==y_test_)/len(y_test_)\n",
        "\n",
        "        test_pred = testing_.copy()\n",
        "        test_pred.labels = predictions\n",
        "        #STEP 7: Retrieving the fairness metrics from our classification algorithm after pre and post processing\n",
        "        metric_pred = ClassificationMetric(testing_, test_pred, unprivileged_groups=unprivileged_groups, privileged_groups=privileged_groups)\n",
        "        classified_metric = ClassificationMetric(testing_, test_pred, unprivileged_groups=unprivileged_groups, privileged_groups=privileged_groups)\n",
        "\n",
        "        #retrieving metrics from the classifier. The accuracies include percentage of true pred, statistical parity difference, disparate impact and equal opportunity.\n",
        "        result = {'Accuracy':model_acc,'statistical_parity_difference': metric_pred.statistical_parity_difference(),\n",
        "                  'disparate_impact': metric_pred.disparate_impact(),'equal_opportunity_difference': classified_metric.equal_opportunity_difference()}\n",
        "\n",
        "        results_[str(fold_num)+'DecisionTree_'+str(criterion_1)+str(depth)]=result#saving the results of the decision tree classifier \n",
        "  return results_,test_,train_\n",
        "end = time.time()\n",
        "total = end - start\n",
        "print('Total elapsed time was',total)"
      ],
      "metadata": {
        "id": "7pA9GdBRY3af",
        "colab": {
          "base_uri": "https://localhost:8080/"
        },
        "outputId": "cbc74865-d1d5-4807-d32c-404f8493529d"
      },
      "execution_count": 28,
      "outputs": [
        {
          "output_type": "stream",
          "name": "stdout",
          "text": [
            "Total elapsed time was 0.0008096694946289062\n"
          ]
        }
      ]
    },
    {
      "cell_type": "markdown",
      "source": [
        "### Task 2 Section 1"
      ],
      "metadata": {
        "id": "JcWB21chZa5s"
      }
    },
    {
      "cell_type": "code",
      "source": [
        "start = time.time()#this is to measure elapsed time\n",
        "results_2,test_data_2,train_data_2 = task2_vanilla_test_extra(load_preproc_data_adult)\n",
        "df_2 = retrive_metrics_dataframe(results_2)\n",
        "end = time.time()\n",
        "total = end - start\n",
        "print('Total elapsed time was',total)\n",
        "df_2"
      ],
      "metadata": {
        "id": "6NOHyxtzrN7n",
        "colab": {
          "base_uri": "https://localhost:8080/",
          "height": 430
        },
        "outputId": "3e7ac3cf-0fe9-4fa0-affe-9febe5cae008"
      },
      "execution_count": null,
      "outputs": [
        {
          "output_type": "stream",
          "name": "stdout",
          "text": [
            "training data size (34189, 18)\n",
            "dataset feature names ['race', 'sex', 'Age (decade)=10', 'Age (decade)=20', 'Age (decade)=30', 'Age (decade)=40', 'Age (decade)=50', 'Age (decade)=60', 'Age (decade)=>=70', 'Education Years=6', 'Education Years=7', 'Education Years=8', 'Education Years=9', 'Education Years=10', 'Education Years=11', 'Education Years=12', 'Education Years=<6', 'Education Years=>12']\n",
            "Total elapsed time was 28.36413884162903\n"
          ]
        },
        {
          "output_type": "execute_result",
          "data": {
            "text/plain": [
              "                          Accuracy  statistical_parity_difference  \\\n",
              "DecisionTree_entropy2     0.788616                      -0.064803   \n",
              "DecisionTree_gini2        0.788616                      -0.064803   \n",
              "DecisionTree_entropy26    0.806575                      -0.212798   \n",
              "DecisionTree_gini26       0.806575                      -0.212798   \n",
              "DecisionTree_entropy51    0.806575                      -0.212798   \n",
              "DecisionTree_gini51       0.806575                      -0.212798   \n",
              "DecisionTree_entropy100   0.806575                      -0.212798   \n",
              "DecisionTree_gini100      0.806575                      -0.212798   \n",
              "DecisionTree_entropyNone  0.806575                      -0.212798   \n",
              "DecisionTree_giniNone     0.806575                      -0.212798   \n",
              "\n",
              "                          disparate_impact  equal_opportunity_difference  \n",
              "DecisionTree_entropy2             0.705212                      0.013306  \n",
              "DecisionTree_gini2                0.705212                      0.013306  \n",
              "DecisionTree_entropy26            0.000000                     -0.460131  \n",
              "DecisionTree_gini26               0.000000                     -0.460131  \n",
              "DecisionTree_entropy51            0.000000                     -0.460131  \n",
              "DecisionTree_gini51               0.000000                     -0.460131  \n",
              "DecisionTree_entropy100           0.000000                     -0.460131  \n",
              "DecisionTree_gini100              0.000000                     -0.460131  \n",
              "DecisionTree_entropyNone          0.000000                     -0.460131  \n",
              "DecisionTree_giniNone             0.000000                     -0.460131  "
            ],
            "text/html": [
              "\n",
              "  <div id=\"df-bee765d8-1916-4be8-ba04-adadc6d40958\">\n",
              "    <div class=\"colab-df-container\">\n",
              "      <div>\n",
              "<style scoped>\n",
              "    .dataframe tbody tr th:only-of-type {\n",
              "        vertical-align: middle;\n",
              "    }\n",
              "\n",
              "    .dataframe tbody tr th {\n",
              "        vertical-align: top;\n",
              "    }\n",
              "\n",
              "    .dataframe thead th {\n",
              "        text-align: right;\n",
              "    }\n",
              "</style>\n",
              "<table border=\"1\" class=\"dataframe\">\n",
              "  <thead>\n",
              "    <tr style=\"text-align: right;\">\n",
              "      <th></th>\n",
              "      <th>Accuracy</th>\n",
              "      <th>statistical_parity_difference</th>\n",
              "      <th>disparate_impact</th>\n",
              "      <th>equal_opportunity_difference</th>\n",
              "    </tr>\n",
              "  </thead>\n",
              "  <tbody>\n",
              "    <tr>\n",
              "      <th>DecisionTree_entropy2</th>\n",
              "      <td>0.788616</td>\n",
              "      <td>-0.064803</td>\n",
              "      <td>0.705212</td>\n",
              "      <td>0.013306</td>\n",
              "    </tr>\n",
              "    <tr>\n",
              "      <th>DecisionTree_gini2</th>\n",
              "      <td>0.788616</td>\n",
              "      <td>-0.064803</td>\n",
              "      <td>0.705212</td>\n",
              "      <td>0.013306</td>\n",
              "    </tr>\n",
              "    <tr>\n",
              "      <th>DecisionTree_entropy26</th>\n",
              "      <td>0.806575</td>\n",
              "      <td>-0.212798</td>\n",
              "      <td>0.000000</td>\n",
              "      <td>-0.460131</td>\n",
              "    </tr>\n",
              "    <tr>\n",
              "      <th>DecisionTree_gini26</th>\n",
              "      <td>0.806575</td>\n",
              "      <td>-0.212798</td>\n",
              "      <td>0.000000</td>\n",
              "      <td>-0.460131</td>\n",
              "    </tr>\n",
              "    <tr>\n",
              "      <th>DecisionTree_entropy51</th>\n",
              "      <td>0.806575</td>\n",
              "      <td>-0.212798</td>\n",
              "      <td>0.000000</td>\n",
              "      <td>-0.460131</td>\n",
              "    </tr>\n",
              "    <tr>\n",
              "      <th>DecisionTree_gini51</th>\n",
              "      <td>0.806575</td>\n",
              "      <td>-0.212798</td>\n",
              "      <td>0.000000</td>\n",
              "      <td>-0.460131</td>\n",
              "    </tr>\n",
              "    <tr>\n",
              "      <th>DecisionTree_entropy100</th>\n",
              "      <td>0.806575</td>\n",
              "      <td>-0.212798</td>\n",
              "      <td>0.000000</td>\n",
              "      <td>-0.460131</td>\n",
              "    </tr>\n",
              "    <tr>\n",
              "      <th>DecisionTree_gini100</th>\n",
              "      <td>0.806575</td>\n",
              "      <td>-0.212798</td>\n",
              "      <td>0.000000</td>\n",
              "      <td>-0.460131</td>\n",
              "    </tr>\n",
              "    <tr>\n",
              "      <th>DecisionTree_entropyNone</th>\n",
              "      <td>0.806575</td>\n",
              "      <td>-0.212798</td>\n",
              "      <td>0.000000</td>\n",
              "      <td>-0.460131</td>\n",
              "    </tr>\n",
              "    <tr>\n",
              "      <th>DecisionTree_giniNone</th>\n",
              "      <td>0.806575</td>\n",
              "      <td>-0.212798</td>\n",
              "      <td>0.000000</td>\n",
              "      <td>-0.460131</td>\n",
              "    </tr>\n",
              "  </tbody>\n",
              "</table>\n",
              "</div>\n",
              "      <button class=\"colab-df-convert\" onclick=\"convertToInteractive('df-bee765d8-1916-4be8-ba04-adadc6d40958')\"\n",
              "              title=\"Convert this dataframe to an interactive table.\"\n",
              "              style=\"display:none;\">\n",
              "        \n",
              "  <svg xmlns=\"http://www.w3.org/2000/svg\" height=\"24px\"viewBox=\"0 0 24 24\"\n",
              "       width=\"24px\">\n",
              "    <path d=\"M0 0h24v24H0V0z\" fill=\"none\"/>\n",
              "    <path d=\"M18.56 5.44l.94 2.06.94-2.06 2.06-.94-2.06-.94-.94-2.06-.94 2.06-2.06.94zm-11 1L8.5 8.5l.94-2.06 2.06-.94-2.06-.94L8.5 2.5l-.94 2.06-2.06.94zm10 10l.94 2.06.94-2.06 2.06-.94-2.06-.94-.94-2.06-.94 2.06-2.06.94z\"/><path d=\"M17.41 7.96l-1.37-1.37c-.4-.4-.92-.59-1.43-.59-.52 0-1.04.2-1.43.59L10.3 9.45l-7.72 7.72c-.78.78-.78 2.05 0 2.83L4 21.41c.39.39.9.59 1.41.59.51 0 1.02-.2 1.41-.59l7.78-7.78 2.81-2.81c.8-.78.8-2.07 0-2.86zM5.41 20L4 18.59l7.72-7.72 1.47 1.35L5.41 20z\"/>\n",
              "  </svg>\n",
              "      </button>\n",
              "      \n",
              "  <style>\n",
              "    .colab-df-container {\n",
              "      display:flex;\n",
              "      flex-wrap:wrap;\n",
              "      gap: 12px;\n",
              "    }\n",
              "\n",
              "    .colab-df-convert {\n",
              "      background-color: #E8F0FE;\n",
              "      border: none;\n",
              "      border-radius: 50%;\n",
              "      cursor: pointer;\n",
              "      display: none;\n",
              "      fill: #1967D2;\n",
              "      height: 32px;\n",
              "      padding: 0 0 0 0;\n",
              "      width: 32px;\n",
              "    }\n",
              "\n",
              "    .colab-df-convert:hover {\n",
              "      background-color: #E2EBFA;\n",
              "      box-shadow: 0px 1px 2px rgba(60, 64, 67, 0.3), 0px 1px 3px 1px rgba(60, 64, 67, 0.15);\n",
              "      fill: #174EA6;\n",
              "    }\n",
              "\n",
              "    [theme=dark] .colab-df-convert {\n",
              "      background-color: #3B4455;\n",
              "      fill: #D2E3FC;\n",
              "    }\n",
              "\n",
              "    [theme=dark] .colab-df-convert:hover {\n",
              "      background-color: #434B5C;\n",
              "      box-shadow: 0px 1px 3px 1px rgba(0, 0, 0, 0.15);\n",
              "      filter: drop-shadow(0px 1px 2px rgba(0, 0, 0, 0.3));\n",
              "      fill: #FFFFFF;\n",
              "    }\n",
              "  </style>\n",
              "\n",
              "      <script>\n",
              "        const buttonEl =\n",
              "          document.querySelector('#df-bee765d8-1916-4be8-ba04-adadc6d40958 button.colab-df-convert');\n",
              "        buttonEl.style.display =\n",
              "          google.colab.kernel.accessAllowed ? 'block' : 'none';\n",
              "\n",
              "        async function convertToInteractive(key) {\n",
              "          const element = document.querySelector('#df-bee765d8-1916-4be8-ba04-adadc6d40958');\n",
              "          const dataTable =\n",
              "            await google.colab.kernel.invokeFunction('convertToInteractive',\n",
              "                                                     [key], {});\n",
              "          if (!dataTable) return;\n",
              "\n",
              "          const docLinkHtml = 'Like what you see? Visit the ' +\n",
              "            '<a target=\"_blank\" href=https://colab.research.google.com/notebooks/data_table.ipynb>data table notebook</a>'\n",
              "            + ' to learn more about interactive tables.';\n",
              "          element.innerHTML = '';\n",
              "          dataTable['output_type'] = 'display_data';\n",
              "          await google.colab.output.renderOutput(dataTable, element);\n",
              "          const docLink = document.createElement('div');\n",
              "          docLink.innerHTML = docLinkHtml;\n",
              "          element.appendChild(docLink);\n",
              "        }\n",
              "      </script>\n",
              "    </div>\n",
              "  </div>\n",
              "  "
            ]
          },
          "metadata": {},
          "execution_count": 23
        }
      ]
    },
    {
      "cell_type": "code",
      "source": [
        "start = time.time()#this is to measure elapsed time\n",
        "results_2,test_data_2,train_data_2_ = task2_vanilla_test_extra(load_preproc_data_german)\n",
        "df_2_ = retrive_metrics_dataframe(results_2)\n",
        "end = time.time()\n",
        "total = end - start\n",
        "print('Total elapsed time was',total)\n",
        "df_2_"
      ],
      "metadata": {
        "id": "CGwe9mtQrUrF",
        "colab": {
          "base_uri": "https://localhost:8080/",
          "height": 430
        },
        "outputId": "f2551aac-b36a-4f34-8031-91ed18d6b606"
      },
      "execution_count": null,
      "outputs": [
        {
          "output_type": "stream",
          "name": "stdout",
          "text": [
            "training data size (700, 11)\n",
            "dataset feature names ['age', 'sex', 'credit_history=Delay', 'credit_history=None/Paid', 'credit_history=Other', 'savings=500+', 'savings=<500', 'savings=Unknown/None', 'employment=1-4 years', 'employment=4+ years', 'employment=Unemployed']\n",
            "Total elapsed time was 0.2644670009613037\n"
          ]
        },
        {
          "output_type": "execute_result",
          "data": {
            "text/plain": [
              "                          Accuracy  statistical_parity_difference  \\\n",
              "DecisionTree_entropy2     0.702857                       0.000000   \n",
              "DecisionTree_gini2        0.702857                       0.000000   \n",
              "DecisionTree_entropy26    0.690000                      -0.167734   \n",
              "DecisionTree_gini26       0.690000                      -0.167734   \n",
              "DecisionTree_entropy51    0.690000                      -0.167734   \n",
              "DecisionTree_gini51       0.690000                      -0.167734   \n",
              "DecisionTree_entropy100   0.690000                      -0.167734   \n",
              "DecisionTree_gini100      0.688571                      -0.171900   \n",
              "DecisionTree_entropyNone  0.690000                      -0.167734   \n",
              "DecisionTree_giniNone     0.690000                      -0.167734   \n",
              "\n",
              "                          disparate_impact  equal_opportunity_difference  \n",
              "DecisionTree_entropy2             1.000000                      0.000000  \n",
              "DecisionTree_gini2                1.000000                      0.000000  \n",
              "DecisionTree_entropy26            0.821744                     -0.110784  \n",
              "DecisionTree_gini26               0.821744                     -0.110784  \n",
              "DecisionTree_entropy51            0.821744                     -0.110784  \n",
              "DecisionTree_gini51               0.821744                     -0.110784  \n",
              "DecisionTree_entropy100           0.821744                     -0.110784  \n",
              "DecisionTree_gini100              0.816892                     -0.116845  \n",
              "DecisionTree_entropyNone          0.821744                     -0.110784  \n",
              "DecisionTree_giniNone             0.821744                     -0.110784  "
            ],
            "text/html": [
              "\n",
              "  <div id=\"df-1db66fff-dba9-459c-ac0f-42e5440340e4\">\n",
              "    <div class=\"colab-df-container\">\n",
              "      <div>\n",
              "<style scoped>\n",
              "    .dataframe tbody tr th:only-of-type {\n",
              "        vertical-align: middle;\n",
              "    }\n",
              "\n",
              "    .dataframe tbody tr th {\n",
              "        vertical-align: top;\n",
              "    }\n",
              "\n",
              "    .dataframe thead th {\n",
              "        text-align: right;\n",
              "    }\n",
              "</style>\n",
              "<table border=\"1\" class=\"dataframe\">\n",
              "  <thead>\n",
              "    <tr style=\"text-align: right;\">\n",
              "      <th></th>\n",
              "      <th>Accuracy</th>\n",
              "      <th>statistical_parity_difference</th>\n",
              "      <th>disparate_impact</th>\n",
              "      <th>equal_opportunity_difference</th>\n",
              "    </tr>\n",
              "  </thead>\n",
              "  <tbody>\n",
              "    <tr>\n",
              "      <th>DecisionTree_entropy2</th>\n",
              "      <td>0.702857</td>\n",
              "      <td>0.000000</td>\n",
              "      <td>1.000000</td>\n",
              "      <td>0.000000</td>\n",
              "    </tr>\n",
              "    <tr>\n",
              "      <th>DecisionTree_gini2</th>\n",
              "      <td>0.702857</td>\n",
              "      <td>0.000000</td>\n",
              "      <td>1.000000</td>\n",
              "      <td>0.000000</td>\n",
              "    </tr>\n",
              "    <tr>\n",
              "      <th>DecisionTree_entropy26</th>\n",
              "      <td>0.690000</td>\n",
              "      <td>-0.167734</td>\n",
              "      <td>0.821744</td>\n",
              "      <td>-0.110784</td>\n",
              "    </tr>\n",
              "    <tr>\n",
              "      <th>DecisionTree_gini26</th>\n",
              "      <td>0.690000</td>\n",
              "      <td>-0.167734</td>\n",
              "      <td>0.821744</td>\n",
              "      <td>-0.110784</td>\n",
              "    </tr>\n",
              "    <tr>\n",
              "      <th>DecisionTree_entropy51</th>\n",
              "      <td>0.690000</td>\n",
              "      <td>-0.167734</td>\n",
              "      <td>0.821744</td>\n",
              "      <td>-0.110784</td>\n",
              "    </tr>\n",
              "    <tr>\n",
              "      <th>DecisionTree_gini51</th>\n",
              "      <td>0.690000</td>\n",
              "      <td>-0.167734</td>\n",
              "      <td>0.821744</td>\n",
              "      <td>-0.110784</td>\n",
              "    </tr>\n",
              "    <tr>\n",
              "      <th>DecisionTree_entropy100</th>\n",
              "      <td>0.690000</td>\n",
              "      <td>-0.167734</td>\n",
              "      <td>0.821744</td>\n",
              "      <td>-0.110784</td>\n",
              "    </tr>\n",
              "    <tr>\n",
              "      <th>DecisionTree_gini100</th>\n",
              "      <td>0.688571</td>\n",
              "      <td>-0.171900</td>\n",
              "      <td>0.816892</td>\n",
              "      <td>-0.116845</td>\n",
              "    </tr>\n",
              "    <tr>\n",
              "      <th>DecisionTree_entropyNone</th>\n",
              "      <td>0.690000</td>\n",
              "      <td>-0.167734</td>\n",
              "      <td>0.821744</td>\n",
              "      <td>-0.110784</td>\n",
              "    </tr>\n",
              "    <tr>\n",
              "      <th>DecisionTree_giniNone</th>\n",
              "      <td>0.690000</td>\n",
              "      <td>-0.167734</td>\n",
              "      <td>0.821744</td>\n",
              "      <td>-0.110784</td>\n",
              "    </tr>\n",
              "  </tbody>\n",
              "</table>\n",
              "</div>\n",
              "      <button class=\"colab-df-convert\" onclick=\"convertToInteractive('df-1db66fff-dba9-459c-ac0f-42e5440340e4')\"\n",
              "              title=\"Convert this dataframe to an interactive table.\"\n",
              "              style=\"display:none;\">\n",
              "        \n",
              "  <svg xmlns=\"http://www.w3.org/2000/svg\" height=\"24px\"viewBox=\"0 0 24 24\"\n",
              "       width=\"24px\">\n",
              "    <path d=\"M0 0h24v24H0V0z\" fill=\"none\"/>\n",
              "    <path d=\"M18.56 5.44l.94 2.06.94-2.06 2.06-.94-2.06-.94-.94-2.06-.94 2.06-2.06.94zm-11 1L8.5 8.5l.94-2.06 2.06-.94-2.06-.94L8.5 2.5l-.94 2.06-2.06.94zm10 10l.94 2.06.94-2.06 2.06-.94-2.06-.94-.94-2.06-.94 2.06-2.06.94z\"/><path d=\"M17.41 7.96l-1.37-1.37c-.4-.4-.92-.59-1.43-.59-.52 0-1.04.2-1.43.59L10.3 9.45l-7.72 7.72c-.78.78-.78 2.05 0 2.83L4 21.41c.39.39.9.59 1.41.59.51 0 1.02-.2 1.41-.59l7.78-7.78 2.81-2.81c.8-.78.8-2.07 0-2.86zM5.41 20L4 18.59l7.72-7.72 1.47 1.35L5.41 20z\"/>\n",
              "  </svg>\n",
              "      </button>\n",
              "      \n",
              "  <style>\n",
              "    .colab-df-container {\n",
              "      display:flex;\n",
              "      flex-wrap:wrap;\n",
              "      gap: 12px;\n",
              "    }\n",
              "\n",
              "    .colab-df-convert {\n",
              "      background-color: #E8F0FE;\n",
              "      border: none;\n",
              "      border-radius: 50%;\n",
              "      cursor: pointer;\n",
              "      display: none;\n",
              "      fill: #1967D2;\n",
              "      height: 32px;\n",
              "      padding: 0 0 0 0;\n",
              "      width: 32px;\n",
              "    }\n",
              "\n",
              "    .colab-df-convert:hover {\n",
              "      background-color: #E2EBFA;\n",
              "      box-shadow: 0px 1px 2px rgba(60, 64, 67, 0.3), 0px 1px 3px 1px rgba(60, 64, 67, 0.15);\n",
              "      fill: #174EA6;\n",
              "    }\n",
              "\n",
              "    [theme=dark] .colab-df-convert {\n",
              "      background-color: #3B4455;\n",
              "      fill: #D2E3FC;\n",
              "    }\n",
              "\n",
              "    [theme=dark] .colab-df-convert:hover {\n",
              "      background-color: #434B5C;\n",
              "      box-shadow: 0px 1px 3px 1px rgba(0, 0, 0, 0.15);\n",
              "      filter: drop-shadow(0px 1px 2px rgba(0, 0, 0, 0.3));\n",
              "      fill: #FFFFFF;\n",
              "    }\n",
              "  </style>\n",
              "\n",
              "      <script>\n",
              "        const buttonEl =\n",
              "          document.querySelector('#df-1db66fff-dba9-459c-ac0f-42e5440340e4 button.colab-df-convert');\n",
              "        buttonEl.style.display =\n",
              "          google.colab.kernel.accessAllowed ? 'block' : 'none';\n",
              "\n",
              "        async function convertToInteractive(key) {\n",
              "          const element = document.querySelector('#df-1db66fff-dba9-459c-ac0f-42e5440340e4');\n",
              "          const dataTable =\n",
              "            await google.colab.kernel.invokeFunction('convertToInteractive',\n",
              "                                                     [key], {});\n",
              "          if (!dataTable) return;\n",
              "\n",
              "          const docLinkHtml = 'Like what you see? Visit the ' +\n",
              "            '<a target=\"_blank\" href=https://colab.research.google.com/notebooks/data_table.ipynb>data table notebook</a>'\n",
              "            + ' to learn more about interactive tables.';\n",
              "          element.innerHTML = '';\n",
              "          dataTable['output_type'] = 'display_data';\n",
              "          await google.colab.output.renderOutput(dataTable, element);\n",
              "          const docLink = document.createElement('div');\n",
              "          docLink.innerHTML = docLinkHtml;\n",
              "          element.appendChild(docLink);\n",
              "        }\n",
              "      </script>\n",
              "    </div>\n",
              "  </div>\n",
              "  "
            ]
          },
          "metadata": {},
          "execution_count": 24
        }
      ]
    },
    {
      "cell_type": "code",
      "source": [
        "#fig = plt.figure(figsize=(10,5))\n",
        "\n",
        "fig, ax = plt.subplots(2, 1,figsize=(10,7))\n",
        "\n",
        "ax[0].plot(df_2['Accuracy'],label='Adult Dataset') #row=0, col=0\n",
        "ax[1].plot(df_2_['Accuracy'],label='German Dataset') #row=0, col=0\n",
        "\n",
        "ax[0].set(ylabel=\"Accuracy (%)\",title=\"Experiment on impact of trade-off hyperparameter Adult Dataset (Accuracy)\")\n",
        "ax[1].set(ylabel=\"Accuracy (%)\",title=\"Experiment on impact of trade-off hyperparameter German Dataset (Accuracy)\")\n",
        "\n",
        "#reference:https://stackabuse.com/rotate-axis-labels-in-matplotlib/\n",
        "fig.autofmt_xdate()#Rotate ticks to Fit in Matplotlib\n",
        "fig.tight_layout()\n",
        "ax[0].legend()\n",
        "ax[1].legend()\n",
        "plt.show()"
      ],
      "metadata": {
        "id": "WQG7XqgTrOC9",
        "colab": {
          "base_uri": "https://localhost:8080/",
          "height": 513
        },
        "outputId": "fbec98b2-098b-42fc-df81-dbcbcdf8a4db"
      },
      "execution_count": null,
      "outputs": [
        {
          "output_type": "display_data",
          "data": {
            "text/plain": [
              "<Figure size 720x504 with 2 Axes>"
            ],
            "image/png": "[encoded data removed]"
          },
          "metadata": {
            "needs_background": "light"
          }
        }
      ]
    },
    {
      "cell_type": "code",
      "source": [
        "fig = plt.figure(figsize=(10,7))\n",
        "\n",
        "plt.plot(df_2['equal_opportunity_difference'],label='Adult Dataset') #row=0, col=1\n",
        "plt.plot(df_2_['equal_opportunity_difference'],label='German Dataset') #row=1, col=1\n",
        "plt.ylabel('Equal opportunity difference') \n",
        "plt.title(\"Experiment on impact of of trade-off hyperparameter Adult Dataset (Equal opportunity)\")\n",
        "#reference:https://stackabuse.com/rotate-axis-labels-in-matplotlib/\n",
        "fig.autofmt_xdate()#Rotate ticks to Fit in Matplotlib\n",
        "fig.tight_layout()\n",
        "plt.legend()\n",
        "plt.show()"
      ],
      "metadata": {
        "colab": {
          "base_uri": "https://localhost:8080/",
          "height": 513
        },
        "id": "DU6WWYUM78N6",
        "outputId": "118099cb-1c0d-408b-d08f-2ba43134cccf"
      },
      "execution_count": null,
      "outputs": [
        {
          "output_type": "display_data",
          "data": {
            "text/plain": [
              "<Figure size 720x504 with 1 Axes>"
            ],
            "image/png": "[encoded data removed]"
          },
          "metadata": {
            "needs_background": "light"
          }
        }
      ]
    },
    {
      "cell_type": "code",
      "source": [
        "print('Results from Adult Dataset')\n",
        "print('Model with highest accuracy',df_2['Accuracy'].idxmax(),df['Accuracy'].max())\n",
        "print('Model with highest fairness',df_2['equal_opportunity_difference'].idxmax(),df['equal_opportunity_difference'].max())"
      ],
      "metadata": {
        "colab": {
          "base_uri": "https://localhost:8080/"
        },
        "outputId": "95708821-101a-4dcb-c23e-de1ba5308002",
        "id": "Cl4G7qOZxvT7"
      },
      "execution_count": null,
      "outputs": [
        {
          "output_type": "stream",
          "name": "stdout",
          "text": [
            "Results from Adult Dataset\n",
            "Model with highest accuracy DecisionTree_entropy26 0.8037671850981336\n",
            "Model with highest fairness DecisionTree_entropy2 -0.0026581337164454876\n"
          ]
        }
      ]
    },
    {
      "cell_type": "code",
      "source": [
        "print('The model with the best accuracy score has the followig metrics: ')\n",
        "fit_traintest(train_data_2,criterions='entropy',max_depts=26)\n",
        "print('The model with the best fairness score the followig accuracies: ')\n",
        "fit_traintest(train_data_2,criterions='entropy',max_depts=2)"
      ],
      "metadata": {
        "colab": {
          "base_uri": "https://localhost:8080/"
        },
        "outputId": "b5babbf0-6072-4fe4-cf35-c5aa3b4925f3",
        "id": "u64PItDDxvT9"
      },
      "execution_count": null,
      "outputs": [
        {
          "output_type": "stream",
          "name": "stdout",
          "text": [
            "The model with the best accuracy score has the followig metrics: \n",
            "Accuracy 0.8072186960718359 Equal oppportunity metric -0.4619714244479723\n",
            "The model with the best fairness score the followig accuracies: \n",
            "Accuracy 0.78861622159174 Equal oppportunity metric 0.012359771492590321\n"
          ]
        }
      ]
    },
    {
      "cell_type": "code",
      "source": [
        "print('Results from German Dataset')\n",
        "print('Model with highest accuracy',df_2_['Accuracy'].idxmax(),df_1['Accuracy'].max())\n",
        "print('Model with highest fairness',df_2_['equal_opportunity_difference'].idxmax(),df_1['equal_opportunity_difference'].max())"
      ],
      "metadata": {
        "colab": {
          "base_uri": "https://localhost:8080/"
        },
        "outputId": "0af215df-d0e2-4579-8b9c-3042eeb653c5",
        "id": "5xOqGLioxvT9"
      },
      "execution_count": null,
      "outputs": [
        {
          "output_type": "stream",
          "name": "stdout",
          "text": [
            "Results from German Dataset\n",
            "Model with highest accuracy DecisionTree_entropy2 0.6914285714285715\n",
            "Model with highest fairness DecisionTree_entropy2 0.0\n"
          ]
        }
      ]
    },
    {
      "cell_type": "code",
      "source": [
        "print('The model with the best accuracy score has the followig metrics: ')\n",
        "fit_traintest(train_data_2_,criterions='entropy',max_depts=26)\n",
        "print('The model with the best fairness score the followig accuracies: ')\n",
        "fit_traintest(train_data_2_,criterions='entropy',max_depts=2)"
      ],
      "metadata": {
        "colab": {
          "base_uri": "https://localhost:8080/"
        },
        "outputId": "cc974d4f-e888-46ea-8ccc-56dd0f854752",
        "id": "vOhBaMl-xvT-"
      },
      "execution_count": null,
      "outputs": [
        {
          "output_type": "stream",
          "name": "stdout",
          "text": [
            "The model with the best accuracy score has the followig metrics: \n",
            "Accuracy 0.7342857142857143 Equal oppportunity metric -0.09951670025632486\n",
            "The model with the best fairness score the followig accuracies: \n",
            "Accuracy 0.7028571428571428 Equal oppportunity metric 0.0\n"
          ]
        }
      ]
    },
    {
      "cell_type": "markdown",
      "source": [
        "### Task 2 Section 2"
      ],
      "metadata": {
        "id": "tDFLg0KIZP3k"
      }
    },
    {
      "cell_type": "markdown",
      "source": [
        "#### Task 2.1 Adult Dataset results"
      ],
      "metadata": {
        "id": "oqItcxUenhXq"
      }
    },
    {
      "cell_type": "code",
      "source": [
        "start = time.time()#this is to measure elapsed time\n",
        "results_2,test_data_2,train_data_2 = task2_vanilla_test(load_preproc_data_adult)\n",
        "df_2 = retrive_metrics_dataframe(results_2)\n",
        "end = time.time()\n",
        "total = end - start\n",
        "print('Total elapsed time was',total)\n",
        "df_2"
      ],
      "metadata": {
        "id": "r0c2hmFglTJE",
        "colab": {
          "base_uri": "https://localhost:8080/",
          "height": 430
        },
        "outputId": "8158dfbf-6f3c-4901-a647-6925b1c963f2"
      },
      "execution_count": null,
      "outputs": [
        {
          "output_type": "stream",
          "name": "stdout",
          "text": [
            "training data size (34189, 18)\n",
            "dataset feature names ['race', 'sex', 'Age (decade)=10', 'Age (decade)=20', 'Age (decade)=30', 'Age (decade)=40', 'Age (decade)=50', 'Age (decade)=60', 'Age (decade)=>=70', 'Education Years=6', 'Education Years=7', 'Education Years=8', 'Education Years=9', 'Education Years=10', 'Education Years=11', 'Education Years=12', 'Education Years=<6', 'Education Years=>12']\n",
            "Total elapsed time was 28.2118718624115\n"
          ]
        },
        {
          "output_type": "execute_result",
          "data": {
            "text/plain": [
              "                          Accuracy  statistical_parity_difference  \\\n",
              "DecisionTree_entropy2     0.786130                      -0.197034   \n",
              "DecisionTree_gini2        0.786130                      -0.197034   \n",
              "DecisionTree_entropy26    0.802451                      -0.197034   \n",
              "DecisionTree_gini26       0.802451                      -0.197034   \n",
              "DecisionTree_entropy51    0.802451                      -0.197034   \n",
              "DecisionTree_gini51       0.802451                      -0.197034   \n",
              "DecisionTree_entropy100   0.802451                      -0.197034   \n",
              "DecisionTree_gini100      0.802451                      -0.197034   \n",
              "DecisionTree_entropyNone  0.802451                      -0.197034   \n",
              "DecisionTree_giniNone     0.802451                      -0.197034   \n",
              "\n",
              "                          disparate_impact  equal_opportunity_difference  \n",
              "DecisionTree_entropy2             0.354287                           0.0  \n",
              "DecisionTree_gini2                0.354287                           0.0  \n",
              "DecisionTree_entropy26            0.354287                           0.0  \n",
              "DecisionTree_gini26               0.354287                           0.0  \n",
              "DecisionTree_entropy51            0.354287                           0.0  \n",
              "DecisionTree_gini51               0.354287                           0.0  \n",
              "DecisionTree_entropy100           0.354287                           0.0  \n",
              "DecisionTree_gini100              0.354287                           0.0  \n",
              "DecisionTree_entropyNone          0.354287                           0.0  \n",
              "DecisionTree_giniNone             0.354287                           0.0  "
            ],
            "text/html": [
              "\n",
              "  <div id=\"df-627a303c-6ca0-43ee-8d9b-ef3581f09f62\">\n",
              "    <div class=\"colab-df-container\">\n",
              "      <div>\n",
              "<style scoped>\n",
              "    .dataframe tbody tr th:only-of-type {\n",
              "        vertical-align: middle;\n",
              "    }\n",
              "\n",
              "    .dataframe tbody tr th {\n",
              "        vertical-align: top;\n",
              "    }\n",
              "\n",
              "    .dataframe thead th {\n",
              "        text-align: right;\n",
              "    }\n",
              "</style>\n",
              "<table border=\"1\" class=\"dataframe\">\n",
              "  <thead>\n",
              "    <tr style=\"text-align: right;\">\n",
              "      <th></th>\n",
              "      <th>Accuracy</th>\n",
              "      <th>statistical_parity_difference</th>\n",
              "      <th>disparate_impact</th>\n",
              "      <th>equal_opportunity_difference</th>\n",
              "    </tr>\n",
              "  </thead>\n",
              "  <tbody>\n",
              "    <tr>\n",
              "      <th>DecisionTree_entropy2</th>\n",
              "      <td>0.786130</td>\n",
              "      <td>-0.197034</td>\n",
              "      <td>0.354287</td>\n",
              "      <td>0.0</td>\n",
              "    </tr>\n",
              "    <tr>\n",
              "      <th>DecisionTree_gini2</th>\n",
              "      <td>0.786130</td>\n",
              "      <td>-0.197034</td>\n",
              "      <td>0.354287</td>\n",
              "      <td>0.0</td>\n",
              "    </tr>\n",
              "    <tr>\n",
              "      <th>DecisionTree_entropy26</th>\n",
              "      <td>0.802451</td>\n",
              "      <td>-0.197034</td>\n",
              "      <td>0.354287</td>\n",
              "      <td>0.0</td>\n",
              "    </tr>\n",
              "    <tr>\n",
              "      <th>DecisionTree_gini26</th>\n",
              "      <td>0.802451</td>\n",
              "      <td>-0.197034</td>\n",
              "      <td>0.354287</td>\n",
              "      <td>0.0</td>\n",
              "    </tr>\n",
              "    <tr>\n",
              "      <th>DecisionTree_entropy51</th>\n",
              "      <td>0.802451</td>\n",
              "      <td>-0.197034</td>\n",
              "      <td>0.354287</td>\n",
              "      <td>0.0</td>\n",
              "    </tr>\n",
              "    <tr>\n",
              "      <th>DecisionTree_gini51</th>\n",
              "      <td>0.802451</td>\n",
              "      <td>-0.197034</td>\n",
              "      <td>0.354287</td>\n",
              "      <td>0.0</td>\n",
              "    </tr>\n",
              "    <tr>\n",
              "      <th>DecisionTree_entropy100</th>\n",
              "      <td>0.802451</td>\n",
              "      <td>-0.197034</td>\n",
              "      <td>0.354287</td>\n",
              "      <td>0.0</td>\n",
              "    </tr>\n",
              "    <tr>\n",
              "      <th>DecisionTree_gini100</th>\n",
              "      <td>0.802451</td>\n",
              "      <td>-0.197034</td>\n",
              "      <td>0.354287</td>\n",
              "      <td>0.0</td>\n",
              "    </tr>\n",
              "    <tr>\n",
              "      <th>DecisionTree_entropyNone</th>\n",
              "      <td>0.802451</td>\n",
              "      <td>-0.197034</td>\n",
              "      <td>0.354287</td>\n",
              "      <td>0.0</td>\n",
              "    </tr>\n",
              "    <tr>\n",
              "      <th>DecisionTree_giniNone</th>\n",
              "      <td>0.802451</td>\n",
              "      <td>-0.197034</td>\n",
              "      <td>0.354287</td>\n",
              "      <td>0.0</td>\n",
              "    </tr>\n",
              "  </tbody>\n",
              "</table>\n",
              "</div>\n",
              "      <button class=\"colab-df-convert\" onclick=\"convertToInteractive('df-627a303c-6ca0-43ee-8d9b-ef3581f09f62')\"\n",
              "              title=\"Convert this dataframe to an interactive table.\"\n",
              "              style=\"display:none;\">\n",
              "        \n",
              "  <svg xmlns=\"http://www.w3.org/2000/svg\" height=\"24px\"viewBox=\"0 0 24 24\"\n",
              "       width=\"24px\">\n",
              "    <path d=\"M0 0h24v24H0V0z\" fill=\"none\"/>\n",
              "    <path d=\"M18.56 5.44l.94 2.06.94-2.06 2.06-.94-2.06-.94-.94-2.06-.94 2.06-2.06.94zm-11 1L8.5 8.5l.94-2.06 2.06-.94-2.06-.94L8.5 2.5l-.94 2.06-2.06.94zm10 10l.94 2.06.94-2.06 2.06-.94-2.06-.94-.94-2.06-.94 2.06-2.06.94z\"/><path d=\"M17.41 7.96l-1.37-1.37c-.4-.4-.92-.59-1.43-.59-.52 0-1.04.2-1.43.59L10.3 9.45l-7.72 7.72c-.78.78-.78 2.05 0 2.83L4 21.41c.39.39.9.59 1.41.59.51 0 1.02-.2 1.41-.59l7.78-7.78 2.81-2.81c.8-.78.8-2.07 0-2.86zM5.41 20L4 18.59l7.72-7.72 1.47 1.35L5.41 20z\"/>\n",
              "  </svg>\n",
              "      </button>\n",
              "      \n",
              "  <style>\n",
              "    .colab-df-container {\n",
              "      display:flex;\n",
              "      flex-wrap:wrap;\n",
              "      gap: 12px;\n",
              "    }\n",
              "\n",
              "    .colab-df-convert {\n",
              "      background-color: #E8F0FE;\n",
              "      border: none;\n",
              "      border-radius: 50%;\n",
              "      cursor: pointer;\n",
              "      display: none;\n",
              "      fill: #1967D2;\n",
              "      height: 32px;\n",
              "      padding: 0 0 0 0;\n",
              "      width: 32px;\n",
              "    }\n",
              "\n",
              "    .colab-df-convert:hover {\n",
              "      background-color: #E2EBFA;\n",
              "      box-shadow: 0px 1px 2px rgba(60, 64, 67, 0.3), 0px 1px 3px 1px rgba(60, 64, 67, 0.15);\n",
              "      fill: #174EA6;\n",
              "    }\n",
              "\n",
              "    [theme=dark] .colab-df-convert {\n",
              "      background-color: #3B4455;\n",
              "      fill: #D2E3FC;\n",
              "    }\n",
              "\n",
              "    [theme=dark] .colab-df-convert:hover {\n",
              "      background-color: #434B5C;\n",
              "      box-shadow: 0px 1px 3px 1px rgba(0, 0, 0, 0.15);\n",
              "      filter: drop-shadow(0px 1px 2px rgba(0, 0, 0, 0.3));\n",
              "      fill: #FFFFFF;\n",
              "    }\n",
              "  </style>\n",
              "\n",
              "      <script>\n",
              "        const buttonEl =\n",
              "          document.querySelector('#df-627a303c-6ca0-43ee-8d9b-ef3581f09f62 button.colab-df-convert');\n",
              "        buttonEl.style.display =\n",
              "          google.colab.kernel.accessAllowed ? 'block' : 'none';\n",
              "\n",
              "        async function convertToInteractive(key) {\n",
              "          const element = document.querySelector('#df-627a303c-6ca0-43ee-8d9b-ef3581f09f62');\n",
              "          const dataTable =\n",
              "            await google.colab.kernel.invokeFunction('convertToInteractive',\n",
              "                                                     [key], {});\n",
              "          if (!dataTable) return;\n",
              "\n",
              "          const docLinkHtml = 'Like what you see? Visit the ' +\n",
              "            '<a target=\"_blank\" href=https://colab.research.google.com/notebooks/data_table.ipynb>data table notebook</a>'\n",
              "            + ' to learn more about interactive tables.';\n",
              "          element.innerHTML = '';\n",
              "          dataTable['output_type'] = 'display_data';\n",
              "          await google.colab.output.renderOutput(dataTable, element);\n",
              "          const docLink = document.createElement('div');\n",
              "          docLink.innerHTML = docLinkHtml;\n",
              "          element.appendChild(docLink);\n",
              "        }\n",
              "      </script>\n",
              "    </div>\n",
              "  </div>\n",
              "  "
            ]
          },
          "metadata": {},
          "execution_count": 31
        }
      ]
    },
    {
      "cell_type": "markdown",
      "source": [
        "### Task 2.2 German Dataset results"
      ],
      "metadata": {
        "id": "34aFNcaFnjpq"
      }
    },
    {
      "cell_type": "code",
      "source": [
        "start = time.time()#this is to measure elapsed time\n",
        "results_2,test_data_2,train_data_2_ = task2_vanilla_test(load_preproc_data_german)\n",
        "df_2_ = retrive_metrics_dataframe(results_2)\n",
        "end = time.time()\n",
        "total = end - start\n",
        "print('Total elapsed time was',total)\n",
        "df_2_"
      ],
      "metadata": {
        "id": "MNrlMH4KmQ30",
        "colab": {
          "base_uri": "https://localhost:8080/",
          "height": 430
        },
        "outputId": "c4569f77-6085-4800-b84b-40b79bc97600"
      },
      "execution_count": null,
      "outputs": [
        {
          "output_type": "stream",
          "name": "stdout",
          "text": [
            "training data size (700, 11)\n",
            "dataset feature names ['age', 'sex', 'credit_history=Delay', 'credit_history=None/Paid', 'credit_history=Other', 'savings=500+', 'savings=<500', 'savings=Unknown/None', 'employment=1-4 years', 'employment=4+ years', 'employment=Unemployed']\n",
            "Total elapsed time was 0.5942478179931641\n"
          ]
        },
        {
          "output_type": "execute_result",
          "data": {
            "text/plain": [
              "                          Accuracy  statistical_parity_difference  \\\n",
              "DecisionTree_entropy2     0.717143                      -0.092827   \n",
              "DecisionTree_gini2        0.714286                      -0.092827   \n",
              "DecisionTree_entropy26    0.728571                      -0.092827   \n",
              "DecisionTree_gini26       0.724286                      -0.092827   \n",
              "DecisionTree_entropy51    0.728571                      -0.092827   \n",
              "DecisionTree_gini51       0.724286                      -0.092827   \n",
              "DecisionTree_entropy100   0.728571                      -0.092827   \n",
              "DecisionTree_gini100      0.724286                      -0.092827   \n",
              "DecisionTree_entropyNone  0.728571                      -0.092827   \n",
              "DecisionTree_giniNone     0.724286                      -0.092827   \n",
              "\n",
              "                          disparate_impact  equal_opportunity_difference  \n",
              "DecisionTree_entropy2             0.878041                           0.0  \n",
              "DecisionTree_gini2                0.878041                           0.0  \n",
              "DecisionTree_entropy26            0.878041                           0.0  \n",
              "DecisionTree_gini26               0.878041                           0.0  \n",
              "DecisionTree_entropy51            0.878041                           0.0  \n",
              "DecisionTree_gini51               0.878041                           0.0  \n",
              "DecisionTree_entropy100           0.878041                           0.0  \n",
              "DecisionTree_gini100              0.878041                           0.0  \n",
              "DecisionTree_entropyNone          0.878041                           0.0  \n",
              "DecisionTree_giniNone             0.878041                           0.0  "
            ],
            "text/html": [
              "\n",
              "  <div id=\"df-160e51ad-e992-42d2-b149-8767ea1b98ae\">\n",
              "    <div class=\"colab-df-container\">\n",
              "      <div>\n",
              "<style scoped>\n",
              "    .dataframe tbody tr th:only-of-type {\n",
              "        vertical-align: middle;\n",
              "    }\n",
              "\n",
              "    .dataframe tbody tr th {\n",
              "        vertical-align: top;\n",
              "    }\n",
              "\n",
              "    .dataframe thead th {\n",
              "        text-align: right;\n",
              "    }\n",
              "</style>\n",
              "<table border=\"1\" class=\"dataframe\">\n",
              "  <thead>\n",
              "    <tr style=\"text-align: right;\">\n",
              "      <th></th>\n",
              "      <th>Accuracy</th>\n",
              "      <th>statistical_parity_difference</th>\n",
              "      <th>disparate_impact</th>\n",
              "      <th>equal_opportunity_difference</th>\n",
              "    </tr>\n",
              "  </thead>\n",
              "  <tbody>\n",
              "    <tr>\n",
              "      <th>DecisionTree_entropy2</th>\n",
              "      <td>0.717143</td>\n",
              "      <td>-0.092827</td>\n",
              "      <td>0.878041</td>\n",
              "      <td>0.0</td>\n",
              "    </tr>\n",
              "    <tr>\n",
              "      <th>DecisionTree_gini2</th>\n",
              "      <td>0.714286</td>\n",
              "      <td>-0.092827</td>\n",
              "      <td>0.878041</td>\n",
              "      <td>0.0</td>\n",
              "    </tr>\n",
              "    <tr>\n",
              "      <th>DecisionTree_entropy26</th>\n",
              "      <td>0.728571</td>\n",
              "      <td>-0.092827</td>\n",
              "      <td>0.878041</td>\n",
              "      <td>0.0</td>\n",
              "    </tr>\n",
              "    <tr>\n",
              "      <th>DecisionTree_gini26</th>\n",
              "      <td>0.724286</td>\n",
              "      <td>-0.092827</td>\n",
              "      <td>0.878041</td>\n",
              "      <td>0.0</td>\n",
              "    </tr>\n",
              "    <tr>\n",
              "      <th>DecisionTree_entropy51</th>\n",
              "      <td>0.728571</td>\n",
              "      <td>-0.092827</td>\n",
              "      <td>0.878041</td>\n",
              "      <td>0.0</td>\n",
              "    </tr>\n",
              "    <tr>\n",
              "      <th>DecisionTree_gini51</th>\n",
              "      <td>0.724286</td>\n",
              "      <td>-0.092827</td>\n",
              "      <td>0.878041</td>\n",
              "      <td>0.0</td>\n",
              "    </tr>\n",
              "    <tr>\n",
              "      <th>DecisionTree_entropy100</th>\n",
              "      <td>0.728571</td>\n",
              "      <td>-0.092827</td>\n",
              "      <td>0.878041</td>\n",
              "      <td>0.0</td>\n",
              "    </tr>\n",
              "    <tr>\n",
              "      <th>DecisionTree_gini100</th>\n",
              "      <td>0.724286</td>\n",
              "      <td>-0.092827</td>\n",
              "      <td>0.878041</td>\n",
              "      <td>0.0</td>\n",
              "    </tr>\n",
              "    <tr>\n",
              "      <th>DecisionTree_entropyNone</th>\n",
              "      <td>0.728571</td>\n",
              "      <td>-0.092827</td>\n",
              "      <td>0.878041</td>\n",
              "      <td>0.0</td>\n",
              "    </tr>\n",
              "    <tr>\n",
              "      <th>DecisionTree_giniNone</th>\n",
              "      <td>0.724286</td>\n",
              "      <td>-0.092827</td>\n",
              "      <td>0.878041</td>\n",
              "      <td>0.0</td>\n",
              "    </tr>\n",
              "  </tbody>\n",
              "</table>\n",
              "</div>\n",
              "      <button class=\"colab-df-convert\" onclick=\"convertToInteractive('df-160e51ad-e992-42d2-b149-8767ea1b98ae')\"\n",
              "              title=\"Convert this dataframe to an interactive table.\"\n",
              "              style=\"display:none;\">\n",
              "        \n",
              "  <svg xmlns=\"http://www.w3.org/2000/svg\" height=\"24px\"viewBox=\"0 0 24 24\"\n",
              "       width=\"24px\">\n",
              "    <path d=\"M0 0h24v24H0V0z\" fill=\"none\"/>\n",
              "    <path d=\"M18.56 5.44l.94 2.06.94-2.06 2.06-.94-2.06-.94-.94-2.06-.94 2.06-2.06.94zm-11 1L8.5 8.5l.94-2.06 2.06-.94-2.06-.94L8.5 2.5l-.94 2.06-2.06.94zm10 10l.94 2.06.94-2.06 2.06-.94-2.06-.94-.94-2.06-.94 2.06-2.06.94z\"/><path d=\"M17.41 7.96l-1.37-1.37c-.4-.4-.92-.59-1.43-.59-.52 0-1.04.2-1.43.59L10.3 9.45l-7.72 7.72c-.78.78-.78 2.05 0 2.83L4 21.41c.39.39.9.59 1.41.59.51 0 1.02-.2 1.41-.59l7.78-7.78 2.81-2.81c.8-.78.8-2.07 0-2.86zM5.41 20L4 18.59l7.72-7.72 1.47 1.35L5.41 20z\"/>\n",
              "  </svg>\n",
              "      </button>\n",
              "      \n",
              "  <style>\n",
              "    .colab-df-container {\n",
              "      display:flex;\n",
              "      flex-wrap:wrap;\n",
              "      gap: 12px;\n",
              "    }\n",
              "\n",
              "    .colab-df-convert {\n",
              "      background-color: #E8F0FE;\n",
              "      border: none;\n",
              "      border-radius: 50%;\n",
              "      cursor: pointer;\n",
              "      display: none;\n",
              "      fill: #1967D2;\n",
              "      height: 32px;\n",
              "      padding: 0 0 0 0;\n",
              "      width: 32px;\n",
              "    }\n",
              "\n",
              "    .colab-df-convert:hover {\n",
              "      background-color: #E2EBFA;\n",
              "      box-shadow: 0px 1px 2px rgba(60, 64, 67, 0.3), 0px 1px 3px 1px rgba(60, 64, 67, 0.15);\n",
              "      fill: #174EA6;\n",
              "    }\n",
              "\n",
              "    [theme=dark] .colab-df-convert {\n",
              "      background-color: #3B4455;\n",
              "      fill: #D2E3FC;\n",
              "    }\n",
              "\n",
              "    [theme=dark] .colab-df-convert:hover {\n",
              "      background-color: #434B5C;\n",
              "      box-shadow: 0px 1px 3px 1px rgba(0, 0, 0, 0.15);\n",
              "      filter: drop-shadow(0px 1px 2px rgba(0, 0, 0, 0.3));\n",
              "      fill: #FFFFFF;\n",
              "    }\n",
              "  </style>\n",
              "\n",
              "      <script>\n",
              "        const buttonEl =\n",
              "          document.querySelector('#df-160e51ad-e992-42d2-b149-8767ea1b98ae button.colab-df-convert');\n",
              "        buttonEl.style.display =\n",
              "          google.colab.kernel.accessAllowed ? 'block' : 'none';\n",
              "\n",
              "        async function convertToInteractive(key) {\n",
              "          const element = document.querySelector('#df-160e51ad-e992-42d2-b149-8767ea1b98ae');\n",
              "          const dataTable =\n",
              "            await google.colab.kernel.invokeFunction('convertToInteractive',\n",
              "                                                     [key], {});\n",
              "          if (!dataTable) return;\n",
              "\n",
              "          const docLinkHtml = 'Like what you see? Visit the ' +\n",
              "            '<a target=\"_blank\" href=https://colab.research.google.com/notebooks/data_table.ipynb>data table notebook</a>'\n",
              "            + ' to learn more about interactive tables.';\n",
              "          element.innerHTML = '';\n",
              "          dataTable['output_type'] = 'display_data';\n",
              "          await google.colab.output.renderOutput(dataTable, element);\n",
              "          const docLink = document.createElement('div');\n",
              "          docLink.innerHTML = docLinkHtml;\n",
              "          element.appendChild(docLink);\n",
              "        }\n",
              "      </script>\n",
              "    </div>\n",
              "  </div>\n",
              "  "
            ]
          },
          "metadata": {},
          "execution_count": 32
        }
      ]
    },
    {
      "cell_type": "code",
      "source": [
        "#fig = plt.figure(figsize=(10,5))\n",
        "\n",
        "fig, ax = plt.subplots(2, 1,figsize=(10,7))\n",
        "\n",
        "ax[0].plot(df_2['Accuracy'],label='Adult Dataset') #row=0, col=0\n",
        "ax[1].plot(df_2_['Accuracy'],label='German Dataset') #row=0, col=0\n",
        "\n",
        "ax[0].set(ylabel=\"Accuracy (%)\",title=\"Experiment on impact of trade-off hyperparameter Adult Dataset (Accuracy)\")\n",
        "ax[1].set(ylabel=\"Accuracy (%)\",title=\"Experiment on impact of trade-off hyperparameter German Dataset (Accuracy)\")\n",
        "\n",
        "#reference:https://stackabuse.com/rotate-axis-labels-in-matplotlib/\n",
        "fig.autofmt_xdate()#Rotate ticks to Fit in Matplotlib\n",
        "fig.tight_layout()\n",
        "ax[0].legend()\n",
        "ax[1].legend()\n",
        "plt.show()"
      ],
      "metadata": {
        "id": "dBb6oPvnmcTN",
        "colab": {
          "base_uri": "https://localhost:8080/",
          "height": 513
        },
        "outputId": "0054b7ba-db9b-4963-d7a1-29b1ad22e958"
      },
      "execution_count": null,
      "outputs": [
        {
          "output_type": "display_data",
          "data": {
            "text/plain": [
              "<Figure size 720x504 with 2 Axes>"
            ],
            "image/png": "[encoded data removed]"
          },
          "metadata": {
            "needs_background": "light"
          }
        }
      ]
    },
    {
      "cell_type": "code",
      "source": [
        "fig = plt.figure(figsize=(10,7))\n",
        "\n",
        "plt.plot(df_2['equal_opportunity_difference'],label='Adult dataset') #row=0, col=1\n",
        "plt.plot(df_2_['equal_opportunity_difference'],label='German dataset') #row=1, col=1\n",
        "plt.ylabel('Equal opportunity difference') \n",
        "plt.title(\"Experiment on impact of of trade-off hyperparameter Adult Dataset (Equal opportunity)\")\n",
        "#reference:https://stackabuse.com/rotate-axis-labels-in-matplotlib/\n",
        "fig.autofmt_xdate()#Rotate ticks to Fit in Matplotlib\n",
        "fig.tight_layout()\n",
        "plt.legend()\n",
        "plt.show()"
      ],
      "metadata": {
        "colab": {
          "base_uri": "https://localhost:8080/",
          "height": 513
        },
        "id": "JEOozTqW8GJN",
        "outputId": "340ecbf9-15be-4cf3-cd12-51e60e81abd7"
      },
      "execution_count": null,
      "outputs": [
        {
          "output_type": "display_data",
          "data": {
            "text/plain": [
              "<Figure size 720x504 with 1 Axes>"
            ],
            "image/png": "[encoded data removed]"
          },
          "metadata": {
            "needs_background": "light"
          }
        }
      ]
    },
    {
      "cell_type": "code",
      "source": [
        "print('Results from Adult Dataset')\n",
        "print('Model with highest accuracy',df_2['Accuracy'].idxmax(),df['Accuracy'].max())\n",
        "print('Model with highest fairness',df_2['equal_opportunity_difference'].idxmax(),df['equal_opportunity_difference'].max())"
      ],
      "metadata": {
        "colab": {
          "base_uri": "https://localhost:8080/"
        },
        "outputId": "0a8c4c85-49be-4083-b8cd-e541d59d8d02",
        "id": "8qvE9L6Nx9Ps"
      },
      "execution_count": null,
      "outputs": [
        {
          "output_type": "stream",
          "name": "stdout",
          "text": [
            "Results from Adult Dataset\n",
            "Model with highest accuracy DecisionTree_entropy26 0.8037671850981336\n",
            "Model with highest fairness DecisionTree_entropy2 -0.0026581337164454876\n"
          ]
        }
      ]
    },
    {
      "cell_type": "code",
      "source": [
        "print('The model with the best accuracy score has the followig metrics: ')\n",
        "fit_traintest(train_data_2,criterions='entropy',max_depts=26)\n",
        "print('The model with the best fairness score the followig accuracies: ')\n",
        "fit_traintest(train_data_2,criterions='entropy',max_depts=2)"
      ],
      "metadata": {
        "colab": {
          "base_uri": "https://localhost:8080/"
        },
        "outputId": "b6c57d77-4911-4bb2-bc0a-da49a9fc6eed",
        "id": "Sn_Rf0c5x9Pt"
      },
      "execution_count": null,
      "outputs": [
        {
          "output_type": "stream",
          "name": "stdout",
          "text": [
            "The model with the best accuracy score has the followig metrics: \n",
            "Accuracy 0.8040305361373541 Equal oppportunity metric -0.46459733943641823\n",
            "The model with the best fairness score the followig accuracies: \n",
            "Accuracy 0.7861300418263184 Equal oppportunity metric -0.0015689815477041846\n"
          ]
        }
      ]
    },
    {
      "cell_type": "code",
      "source": [
        "print('Results from German Dataset')\n",
        "print('Model with highest accuracy',df_2_['Accuracy'].idxmax(),df_1['Accuracy'].max())\n",
        "print('Model with highest fairness',df_2_['equal_opportunity_difference'].idxmax(),df_1['equal_opportunity_difference'].max())"
      ],
      "metadata": {
        "colab": {
          "base_uri": "https://localhost:8080/"
        },
        "outputId": "0386cf01-19bf-4037-b27c-9aebb32d3e4f",
        "id": "yCv0QBVBx9Pu"
      },
      "execution_count": null,
      "outputs": [
        {
          "output_type": "stream",
          "name": "stdout",
          "text": [
            "Results from German Dataset\n",
            "Model with highest accuracy DecisionTree_entropy26 0.6914285714285715\n",
            "Model with highest fairness DecisionTree_entropy2 0.0\n"
          ]
        }
      ]
    },
    {
      "cell_type": "code",
      "source": [
        "print('The model with the best accuracy score has the followig metrics: ')\n",
        "fit_traintest(train_data_2_,criterions='entropy',max_depts=26)\n",
        "print('The model with the best fairness score the followig accuracies: ')\n",
        "fit_traintest(train_data_2_,criterions='entropy',max_depts=2)"
      ],
      "metadata": {
        "colab": {
          "base_uri": "https://localhost:8080/"
        },
        "outputId": "13f58fe1-7b2d-43ba-caa4-8a5561eabdfe",
        "id": "8_RWGuy9x9Pv"
      },
      "execution_count": null,
      "outputs": [
        {
          "output_type": "stream",
          "name": "stdout",
          "text": [
            "The model with the best accuracy score has the followig metrics: \n",
            "Accuracy 0.7528571428571429 Equal oppportunity metric -0.05145973429555517\n",
            "The model with the best fairness score the followig accuracies: \n",
            "Accuracy 0.7214285714285714 Equal oppportunity metric -0.11513859275053306\n"
          ]
        }
      ]
    },
    {
      "cell_type": "markdown",
      "source": [
        "## Task3 (Extra)\n",
        "\n",
        "Based on your observations, suggest a model selection strategy (criterion)\n",
        "that accounts for both, accuracy and fairness. Compare the standard machine learning model versus the fairness-based machine learning model using the proposed criterion - what is the effect (if any)?\n",
        "\n",
        "Specifically, using the same 5-fold cross validation as before, select (5) the standard machine learning model (studied in Task 1), and (6) the fairness-based model (studied in Task 2) based on the proposed accuracy+fairness criterion. \n",
        "\n",
        "After model selection, compute and report final accuracy and fairness for both models (5) and (6) on the test set."
      ],
      "metadata": {
        "id": "pw-HxtBZiRoy"
      }
    },
    {
      "cell_type": "markdown",
      "source": [
        "## Task 3.1 code for section 1"
      ],
      "metadata": {
        "id": "sviM-KU3n6Ca"
      }
    },
    {
      "cell_type": "code",
      "source": [
        "start = time.time()#this is to measure elapsed time\n",
        "\n",
        "def task1_vanilla_test_newmetric(load_preproc=load_preproc_data_adult):\n",
        "\n",
        "  privileged_groups = [{'sex': 1}]\n",
        "  unprivileged_groups = [{'sex': 0}]\n",
        "  dataset_orig = load_preproc(['sex'])\n",
        "\n",
        "  #STEP 3: We split between training and test set.\n",
        "  train_, test_ = dataset_orig.split([0.7], shuffle=True)\n",
        "  print(\"training data size\", train_.features.shape)\n",
        "  print(\"dataset feature names\", train_.feature_names)\n",
        "\n",
        "  kf = KFold(n_splits=5, random_state=41, shuffle=True)\n",
        "  results_ = {}\n",
        "\n",
        "  # Different criterions\n",
        "  criterions = ['gini', 'entropy']\n",
        "  # Maximum number of levels in tree\n",
        "  max_depth = [int(x) for x in np.linspace(2, 100, num = 5)]\n",
        "  max_depth.append(None)\n",
        "\n",
        "  for criterion_1 in criterions:\n",
        "    \n",
        "    for depth in max_depth:\n",
        "          \n",
        "      for fold_num,(train_index, test_index) in enumerate(kf.split(train_.features)):\n",
        "\n",
        "        trainining_ = train_.subset(train_index)\n",
        "        testing_ = train_.subset(test_index)\n",
        "\n",
        "        #Normalize the dataset, both train and test. This should always be done in any machine learning pipeline!\n",
        "        scale = StandardScaler()\n",
        "\n",
        "        X_train_ = scale.fit_transform(trainining_.features)\n",
        "        y_train_ = trainining_.labels.ravel()\n",
        "\n",
        "        X_test_ = scale.transform(testing_.features) \n",
        "        y_test_ = testing_.labels.ravel()\n",
        "    \n",
        "        learner = DecisionTreeClassifier(criterion=criterion_1,max_depth=depth)\n",
        "        learner.fit(X_train_,y_train_)\n",
        "        predictions = learner.predict(X_test_)\n",
        "        model_acc = sum(predictions==y_test_)/len(y_test_)\n",
        "\n",
        "        test_pred = testing_.copy()\n",
        "        test_pred.labels = predictions\n",
        "        metric_pred = ClassificationMetric(testing_, test_pred, unprivileged_groups=unprivileged_groups, privileged_groups=privileged_groups)\n",
        "        classified_metric = ClassificationMetric(testing_, test_pred, unprivileged_groups=unprivileged_groups, privileged_groups=privileged_groups)\n",
        "        \n",
        "        #retrieving metrics from the classifier. The accuracies include percentage of true pred, statistical parity difference, disparate impact and equal opportunity.\n",
        "        new_metric = classified_metric.false_omission_rate(privileged=False)/(classified_metric.false_omission_rate(privileged=False) + classified_metric.false_omission_rate(privileged=True))\n",
        "        if np.isnan(new_metric) == True:\n",
        "          new_metric = 0.000000\n",
        "\n",
        "        result = {'Accuracy':model_acc,'statistical_parity_difference': metric_pred.statistical_parity_difference(),\n",
        "                  'disparate_impact': metric_pred.disparate_impact(),'equal_opportunity_difference': classified_metric.equal_opportunity_difference(),'proposed_metric':new_metric}\n",
        "\n",
        "\n",
        "        results_[str(fold_num)+'DecisionTree_'+str(criterion_1)+str(depth)]=result#saving the results of the decision tree classifier \n",
        "  return results_,test_,train_\n",
        "end = time.time()\n",
        "total = end - start\n",
        "print('Total elapsed time was',total)"
      ],
      "metadata": {
        "id": "Dp-QWj4Wm3mD",
        "colab": {
          "base_uri": "https://localhost:8080/"
        },
        "outputId": "c11d97b9-e0d9-4c2f-ea83-03b7e9252231"
      },
      "execution_count": 27,
      "outputs": [
        {
          "output_type": "stream",
          "name": "stdout",
          "text": [
            "Total elapsed time was 0.0006465911865234375\n"
          ]
        }
      ]
    },
    {
      "cell_type": "code",
      "source": [
        "start = time.time()#this is to measure elapsed time\n",
        "def avenger_dictionary(dict_):\n",
        "  \n",
        "  Accmean = sum(col['Accuracy'] for col in dict_)/ len(dict_)\n",
        "  Statmean = sum(col['statistical_parity_difference'] for col in dict_)/ len(dict_)\n",
        "  Dispmean = sum(col['disparate_impact'] for col in dict_)/ len(dict_)\n",
        "  Equalmean = sum(col['equal_opportunity_difference'] for col in dict_)/ len(dict_)\n",
        "  NewMetric = sum(col['proposed_metric'] for col in dict_)/ len(dict_)\n",
        "  keys = ['Accuracy', 'statistical_parity_difference', 'disparate_impact','equal_opportunity_difference','new_metric']\n",
        "  values = [Accmean, Statmean, Dispmean,Equalmean,NewMetric]\n",
        "\n",
        "  dictionary = dict(zip(keys, values))\n",
        "\n",
        "  return dictionary\n",
        "\n",
        "def retrive_metrics_dataframe(results_dict):\n",
        "  results_2_entropy,results_2_gini = [],[]\n",
        "\n",
        "  results_26_entropy,results_26_gini =  [],[]\n",
        "\n",
        "  results_51_entropy,results_51_gini =  [],[]\n",
        "\n",
        "  results_75_entropy,results_75_gini = [],[]\n",
        "\n",
        "  results_100_entropy,results_100_gini = [],[]\n",
        "\n",
        "  results_None_entropy,results_None_gini = [],[]\n",
        "\n",
        "  for key in results_dict.keys():\n",
        "\n",
        "    if key[1:]=='DecisionTree_entropy2':\n",
        "      results_2_entropy.append(results_dict[key])\n",
        "    if key[1:]=='DecisionTree_gini2':\n",
        "      results_2_gini.append(results_dict[key])\n",
        "\n",
        "    if key[1:]=='DecisionTree_entropy26':\n",
        "      results_26_entropy.append(results_dict[key])\n",
        "    if key[1:]=='DecisionTree_gini26':\n",
        "      results_26_gini.append(results_dict[key])\n",
        "\n",
        "    if key[1:]=='DecisionTree_entropy51':\n",
        "      results_51_entropy.append(results_dict[key])\n",
        "    if key[1:]=='DecisionTree_gini51':\n",
        "      results_51_gini.append(results_dict[key])\n",
        "\n",
        "    if key[1:]=='DecisionTree_entropy100':\n",
        "      results_100_entropy.append(results_dict[key])\n",
        "    if key[1:]=='DecisionTree_gini100':\n",
        "      results_100_gini.append(results_dict[key])\n",
        "\n",
        "    if key[1:]=='DecisionTree_entropyNone':\n",
        "      results_None_entropy.append(results_dict[key])\n",
        "    if key[1:]=='DecisionTree_giniNone':\n",
        "      results_None_gini.append(results_dict[key])\n",
        "\n",
        "  results_dataframe = {}\n",
        "  results_dataframe['DecisionTree_entropy2'] = avenger_dictionary(results_2_entropy)\n",
        "  results_dataframe['DecisionTree_gini2'] = avenger_dictionary(results_2_gini)\n",
        "  results_dataframe['DecisionTree_entropy26'] = avenger_dictionary(results_26_entropy)\n",
        "  results_dataframe['DecisionTree_gini26'] = avenger_dictionary(results_26_gini)\n",
        "  results_dataframe['DecisionTree_entropy51'] = avenger_dictionary(results_51_entropy)\n",
        "  results_dataframe['DecisionTree_gini51'] = avenger_dictionary(results_51_gini)\n",
        "  results_dataframe['DecisionTree_entropy100'] = avenger_dictionary(results_100_entropy)\n",
        "  results_dataframe['DecisionTree_gini100'] = avenger_dictionary(results_100_gini)\n",
        "  results_dataframe['DecisionTree_entropyNone'] = avenger_dictionary(results_None_entropy)\n",
        "  results_dataframe['DecisionTree_giniNone'] = avenger_dictionary(results_None_gini)\n",
        "  df_ = []\n",
        "  df_ = pd.DataFrame(results_dataframe).T\n",
        "\n",
        "  return df_\n"
      ],
      "metadata": {
        "id": "lxSCEGzYvRYS"
      },
      "execution_count": null,
      "outputs": []
    },
    {
      "cell_type": "markdown",
      "source": [
        "### Task 3.1.1 Adult Dataset results"
      ],
      "metadata": {
        "id": "pf7n5FjxnWT7"
      }
    },
    {
      "cell_type": "code",
      "source": [
        "start = time.time()#this is to measure elapsed time\n",
        "results,test_data,train_data = task1_vanilla_test_newmetric(load_preproc_data_adult)\n",
        "df = retrive_metrics_dataframe(results)\n",
        "end = time.time()\n",
        "total = end - start\n",
        "print('Total elapsed time was',total)\n",
        "df"
      ],
      "metadata": {
        "id": "a23XJc2qnUMS",
        "colab": {
          "base_uri": "https://localhost:8080/",
          "height": 430
        },
        "outputId": "0b7c9078-ea92-4488-d871-db6d66793e8b"
      },
      "execution_count": null,
      "outputs": [
        {
          "output_type": "stream",
          "name": "stdout",
          "text": [
            "training data size (34189, 18)\n",
            "dataset feature names ['race', 'sex', 'Age (decade)=10', 'Age (decade)=20', 'Age (decade)=30', 'Age (decade)=40', 'Age (decade)=50', 'Age (decade)=60', 'Age (decade)=>=70', 'Education Years=6', 'Education Years=7', 'Education Years=8', 'Education Years=9', 'Education Years=10', 'Education Years=11', 'Education Years=12', 'Education Years=<6', 'Education Years=>12']\n",
            "Total elapsed time was 3.217707633972168\n"
          ]
        },
        {
          "output_type": "execute_result",
          "data": {
            "text/plain": [
              "                          Accuracy  statistical_parity_difference  \\\n",
              "DecisionTree_entropy2     0.785311                      -0.066950   \n",
              "DecisionTree_gini2        0.785311                      -0.066950   \n",
              "DecisionTree_entropy26    0.803387                      -0.232725   \n",
              "DecisionTree_gini26       0.803358                      -0.232681   \n",
              "DecisionTree_entropy51    0.803387                      -0.232725   \n",
              "DecisionTree_gini51       0.803358                      -0.232681   \n",
              "DecisionTree_entropy100   0.803387                      -0.232725   \n",
              "DecisionTree_gini100      0.803358                      -0.232681   \n",
              "DecisionTree_entropyNone  0.803387                      -0.232725   \n",
              "DecisionTree_giniNone     0.803358                      -0.232681   \n",
              "\n",
              "                          disparate_impact  equal_opportunity_difference  \\\n",
              "DecisionTree_entropy2             0.696766                      0.008233   \n",
              "DecisionTree_gini2                0.696766                      0.008233   \n",
              "DecisionTree_entropy26            0.000000                     -0.488706   \n",
              "DecisionTree_gini26               0.000000                     -0.488558   \n",
              "DecisionTree_entropy51            0.000000                     -0.488706   \n",
              "DecisionTree_gini51               0.000000                     -0.488558   \n",
              "DecisionTree_entropy100           0.000000                     -0.488706   \n",
              "DecisionTree_gini100              0.000000                     -0.488558   \n",
              "DecisionTree_entropyNone          0.000000                     -0.488706   \n",
              "DecisionTree_giniNone             0.000000                     -0.488558   \n",
              "\n",
              "                          new_metric  \n",
              "DecisionTree_entropy2       0.246120  \n",
              "DecisionTree_gini2          0.246120  \n",
              "DecisionTree_entropy26      0.351268  \n",
              "DecisionTree_gini26         0.351220  \n",
              "DecisionTree_entropy51      0.351268  \n",
              "DecisionTree_gini51         0.351220  \n",
              "DecisionTree_entropy100     0.351268  \n",
              "DecisionTree_gini100        0.351220  \n",
              "DecisionTree_entropyNone    0.351268  \n",
              "DecisionTree_giniNone       0.351220  "
            ],
            "text/html": [
              "\n",
              "  <div id=\"df-8784e14e-c6d7-49ea-8564-2235a874483d\">\n",
              "    <div class=\"colab-df-container\">\n",
              "      <div>\n",
              "<style scoped>\n",
              "    .dataframe tbody tr th:only-of-type {\n",
              "        vertical-align: middle;\n",
              "    }\n",
              "\n",
              "    .dataframe tbody tr th {\n",
              "        vertical-align: top;\n",
              "    }\n",
              "\n",
              "    .dataframe thead th {\n",
              "        text-align: right;\n",
              "    }\n",
              "</style>\n",
              "<table border=\"1\" class=\"dataframe\">\n",
              "  <thead>\n",
              "    <tr style=\"text-align: right;\">\n",
              "      <th></th>\n",
              "      <th>Accuracy</th>\n",
              "      <th>statistical_parity_difference</th>\n",
              "      <th>disparate_impact</th>\n",
              "      <th>equal_opportunity_difference</th>\n",
              "      <th>new_metric</th>\n",
              "    </tr>\n",
              "  </thead>\n",
              "  <tbody>\n",
              "    <tr>\n",
              "      <th>DecisionTree_entropy2</th>\n",
              "      <td>0.785311</td>\n",
              "      <td>-0.066950</td>\n",
              "      <td>0.696766</td>\n",
              "      <td>0.008233</td>\n",
              "      <td>0.246120</td>\n",
              "    </tr>\n",
              "    <tr>\n",
              "      <th>DecisionTree_gini2</th>\n",
              "      <td>0.785311</td>\n",
              "      <td>-0.066950</td>\n",
              "      <td>0.696766</td>\n",
              "      <td>0.008233</td>\n",
              "      <td>0.246120</td>\n",
              "    </tr>\n",
              "    <tr>\n",
              "      <th>DecisionTree_entropy26</th>\n",
              "      <td>0.803387</td>\n",
              "      <td>-0.232725</td>\n",
              "      <td>0.000000</td>\n",
              "      <td>-0.488706</td>\n",
              "      <td>0.351268</td>\n",
              "    </tr>\n",
              "    <tr>\n",
              "      <th>DecisionTree_gini26</th>\n",
              "      <td>0.803358</td>\n",
              "      <td>-0.232681</td>\n",
              "      <td>0.000000</td>\n",
              "      <td>-0.488558</td>\n",
              "      <td>0.351220</td>\n",
              "    </tr>\n",
              "    <tr>\n",
              "      <th>DecisionTree_entropy51</th>\n",
              "      <td>0.803387</td>\n",
              "      <td>-0.232725</td>\n",
              "      <td>0.000000</td>\n",
              "      <td>-0.488706</td>\n",
              "      <td>0.351268</td>\n",
              "    </tr>\n",
              "    <tr>\n",
              "      <th>DecisionTree_gini51</th>\n",
              "      <td>0.803358</td>\n",
              "      <td>-0.232681</td>\n",
              "      <td>0.000000</td>\n",
              "      <td>-0.488558</td>\n",
              "      <td>0.351220</td>\n",
              "    </tr>\n",
              "    <tr>\n",
              "      <th>DecisionTree_entropy100</th>\n",
              "      <td>0.803387</td>\n",
              "      <td>-0.232725</td>\n",
              "      <td>0.000000</td>\n",
              "      <td>-0.488706</td>\n",
              "      <td>0.351268</td>\n",
              "    </tr>\n",
              "    <tr>\n",
              "      <th>DecisionTree_gini100</th>\n",
              "      <td>0.803358</td>\n",
              "      <td>-0.232681</td>\n",
              "      <td>0.000000</td>\n",
              "      <td>-0.488558</td>\n",
              "      <td>0.351220</td>\n",
              "    </tr>\n",
              "    <tr>\n",
              "      <th>DecisionTree_entropyNone</th>\n",
              "      <td>0.803387</td>\n",
              "      <td>-0.232725</td>\n",
              "      <td>0.000000</td>\n",
              "      <td>-0.488706</td>\n",
              "      <td>0.351268</td>\n",
              "    </tr>\n",
              "    <tr>\n",
              "      <th>DecisionTree_giniNone</th>\n",
              "      <td>0.803358</td>\n",
              "      <td>-0.232681</td>\n",
              "      <td>0.000000</td>\n",
              "      <td>-0.488558</td>\n",
              "      <td>0.351220</td>\n",
              "    </tr>\n",
              "  </tbody>\n",
              "</table>\n",
              "</div>\n",
              "      <button class=\"colab-df-convert\" onclick=\"convertToInteractive('df-8784e14e-c6d7-49ea-8564-2235a874483d')\"\n",
              "              title=\"Convert this dataframe to an interactive table.\"\n",
              "              style=\"display:none;\">\n",
              "        \n",
              "  <svg xmlns=\"http://www.w3.org/2000/svg\" height=\"24px\"viewBox=\"0 0 24 24\"\n",
              "       width=\"24px\">\n",
              "    <path d=\"M0 0h24v24H0V0z\" fill=\"none\"/>\n",
              "    <path d=\"M18.56 5.44l.94 2.06.94-2.06 2.06-.94-2.06-.94-.94-2.06-.94 2.06-2.06.94zm-11 1L8.5 8.5l.94-2.06 2.06-.94-2.06-.94L8.5 2.5l-.94 2.06-2.06.94zm10 10l.94 2.06.94-2.06 2.06-.94-2.06-.94-.94-2.06-.94 2.06-2.06.94z\"/><path d=\"M17.41 7.96l-1.37-1.37c-.4-.4-.92-.59-1.43-.59-.52 0-1.04.2-1.43.59L10.3 9.45l-7.72 7.72c-.78.78-.78 2.05 0 2.83L4 21.41c.39.39.9.59 1.41.59.51 0 1.02-.2 1.41-.59l7.78-7.78 2.81-2.81c.8-.78.8-2.07 0-2.86zM5.41 20L4 18.59l7.72-7.72 1.47 1.35L5.41 20z\"/>\n",
              "  </svg>\n",
              "      </button>\n",
              "      \n",
              "  <style>\n",
              "    .colab-df-container {\n",
              "      display:flex;\n",
              "      flex-wrap:wrap;\n",
              "      gap: 12px;\n",
              "    }\n",
              "\n",
              "    .colab-df-convert {\n",
              "      background-color: #E8F0FE;\n",
              "      border: none;\n",
              "      border-radius: 50%;\n",
              "      cursor: pointer;\n",
              "      display: none;\n",
              "      fill: #1967D2;\n",
              "      height: 32px;\n",
              "      padding: 0 0 0 0;\n",
              "      width: 32px;\n",
              "    }\n",
              "\n",
              "    .colab-df-convert:hover {\n",
              "      background-color: #E2EBFA;\n",
              "      box-shadow: 0px 1px 2px rgba(60, 64, 67, 0.3), 0px 1px 3px 1px rgba(60, 64, 67, 0.15);\n",
              "      fill: #174EA6;\n",
              "    }\n",
              "\n",
              "    [theme=dark] .colab-df-convert {\n",
              "      background-color: #3B4455;\n",
              "      fill: #D2E3FC;\n",
              "    }\n",
              "\n",
              "    [theme=dark] .colab-df-convert:hover {\n",
              "      background-color: #434B5C;\n",
              "      box-shadow: 0px 1px 3px 1px rgba(0, 0, 0, 0.15);\n",
              "      filter: drop-shadow(0px 1px 2px rgba(0, 0, 0, 0.3));\n",
              "      fill: #FFFFFF;\n",
              "    }\n",
              "  </style>\n",
              "\n",
              "      <script>\n",
              "        const buttonEl =\n",
              "          document.querySelector('#df-8784e14e-c6d7-49ea-8564-2235a874483d button.colab-df-convert');\n",
              "        buttonEl.style.display =\n",
              "          google.colab.kernel.accessAllowed ? 'block' : 'none';\n",
              "\n",
              "        async function convertToInteractive(key) {\n",
              "          const element = document.querySelector('#df-8784e14e-c6d7-49ea-8564-2235a874483d');\n",
              "          const dataTable =\n",
              "            await google.colab.kernel.invokeFunction('convertToInteractive',\n",
              "                                                     [key], {});\n",
              "          if (!dataTable) return;\n",
              "\n",
              "          const docLinkHtml = 'Like what you see? Visit the ' +\n",
              "            '<a target=\"_blank\" href=https://colab.research.google.com/notebooks/data_table.ipynb>data table notebook</a>'\n",
              "            + ' to learn more about interactive tables.';\n",
              "          element.innerHTML = '';\n",
              "          dataTable['output_type'] = 'display_data';\n",
              "          await google.colab.output.renderOutput(dataTable, element);\n",
              "          const docLink = document.createElement('div');\n",
              "          docLink.innerHTML = docLinkHtml;\n",
              "          element.appendChild(docLink);\n",
              "        }\n",
              "      </script>\n",
              "    </div>\n",
              "  </div>\n",
              "  "
            ]
          },
          "metadata": {},
          "execution_count": 41
        }
      ]
    },
    {
      "cell_type": "markdown",
      "source": [
        "### Task 3.1.2 German Dataset results"
      ],
      "metadata": {
        "id": "QPSQDWDBndPy"
      }
    },
    {
      "cell_type": "code",
      "source": [
        "start = time.time()#this is to measure elapsed time\n",
        "results_1,test_data_1,train_data_1 = task1_vanilla_test_newmetric(load_preproc_data_german)\n",
        "df_1 = retrive_metrics_dataframe(results_1)\n",
        "end = time.time()\n",
        "total = end - start\n",
        "print('Total elapsed time was',total)\n",
        "df_1"
      ],
      "metadata": {
        "id": "9Kg7hW0am7hq",
        "colab": {
          "base_uri": "https://localhost:8080/",
          "height": 600
        },
        "outputId": "61822e94-804d-44c6-bb80-257a701eb836"
      },
      "execution_count": null,
      "outputs": [
        {
          "output_type": "stream",
          "name": "stdout",
          "text": [
            "training data size (700, 11)\n",
            "dataset feature names ['age', 'sex', 'credit_history=Delay', 'credit_history=None/Paid', 'credit_history=Other', 'savings=500+', 'savings=<500', 'savings=Unknown/None', 'employment=1-4 years', 'employment=4+ years', 'employment=Unemployed']\n",
            "Total elapsed time was 0.1728065013885498\n"
          ]
        },
        {
          "output_type": "stream",
          "name": "stderr",
          "text": [
            "invalid value encountered in double_scalars\n",
            "invalid value encountered in double_scalars\n",
            "invalid value encountered in double_scalars\n",
            "invalid value encountered in double_scalars\n",
            "invalid value encountered in double_scalars\n",
            "invalid value encountered in double_scalars\n",
            "invalid value encountered in double_scalars\n",
            "invalid value encountered in double_scalars\n",
            "invalid value encountered in double_scalars\n",
            "invalid value encountered in double_scalars\n"
          ]
        },
        {
          "output_type": "execute_result",
          "data": {
            "text/plain": [
              "                          Accuracy  statistical_parity_difference  \\\n",
              "DecisionTree_entropy2         0.71                       0.000000   \n",
              "DecisionTree_gini2            0.71                       0.000000   \n",
              "DecisionTree_entropy26        0.70                      -0.180506   \n",
              "DecisionTree_gini26           0.70                      -0.180506   \n",
              "DecisionTree_entropy51        0.70                      -0.180506   \n",
              "DecisionTree_gini51           0.70                      -0.180506   \n",
              "DecisionTree_entropy100       0.70                      -0.180506   \n",
              "DecisionTree_gini100          0.70                      -0.180506   \n",
              "DecisionTree_entropyNone      0.70                      -0.180506   \n",
              "DecisionTree_giniNone         0.70                      -0.180506   \n",
              "\n",
              "                          disparate_impact  equal_opportunity_difference  \\\n",
              "DecisionTree_entropy2             1.000000                      0.000000   \n",
              "DecisionTree_gini2                1.000000                      0.000000   \n",
              "DecisionTree_entropy26            0.808422                     -0.109254   \n",
              "DecisionTree_gini26               0.808422                     -0.109254   \n",
              "DecisionTree_entropy51            0.808422                     -0.109254   \n",
              "DecisionTree_gini51               0.808422                     -0.109254   \n",
              "DecisionTree_entropy100           0.808422                     -0.109254   \n",
              "DecisionTree_gini100              0.808422                     -0.109254   \n",
              "DecisionTree_entropyNone          0.808422                     -0.109254   \n",
              "DecisionTree_giniNone             0.808422                     -0.109254   \n",
              "\n",
              "                          new_metric  \n",
              "DecisionTree_entropy2       0.000000  \n",
              "DecisionTree_gini2          0.000000  \n",
              "DecisionTree_entropy26      0.381918  \n",
              "DecisionTree_gini26         0.381918  \n",
              "DecisionTree_entropy51      0.381918  \n",
              "DecisionTree_gini51         0.381918  \n",
              "DecisionTree_entropy100     0.381918  \n",
              "DecisionTree_gini100        0.381918  \n",
              "DecisionTree_entropyNone    0.381918  \n",
              "DecisionTree_giniNone       0.381918  "
            ],
            "text/html": [
              "\n",
              "  <div id=\"df-ccf25a4f-65dc-41e1-a7d0-493bf61e9924\">\n",
              "    <div class=\"colab-df-container\">\n",
              "      <div>\n",
              "<style scoped>\n",
              "    .dataframe tbody tr th:only-of-type {\n",
              "        vertical-align: middle;\n",
              "    }\n",
              "\n",
              "    .dataframe tbody tr th {\n",
              "        vertical-align: top;\n",
              "    }\n",
              "\n",
              "    .dataframe thead th {\n",
              "        text-align: right;\n",
              "    }\n",
              "</style>\n",
              "<table border=\"1\" class=\"dataframe\">\n",
              "  <thead>\n",
              "    <tr style=\"text-align: right;\">\n",
              "      <th></th>\n",
              "      <th>Accuracy</th>\n",
              "      <th>statistical_parity_difference</th>\n",
              "      <th>disparate_impact</th>\n",
              "      <th>equal_opportunity_difference</th>\n",
              "      <th>new_metric</th>\n",
              "    </tr>\n",
              "  </thead>\n",
              "  <tbody>\n",
              "    <tr>\n",
              "      <th>DecisionTree_entropy2</th>\n",
              "      <td>0.71</td>\n",
              "      <td>0.000000</td>\n",
              "      <td>1.000000</td>\n",
              "      <td>0.000000</td>\n",
              "      <td>0.000000</td>\n",
              "    </tr>\n",
              "    <tr>\n",
              "      <th>DecisionTree_gini2</th>\n",
              "      <td>0.71</td>\n",
              "      <td>0.000000</td>\n",
              "      <td>1.000000</td>\n",
              "      <td>0.000000</td>\n",
              "      <td>0.000000</td>\n",
              "    </tr>\n",
              "    <tr>\n",
              "      <th>DecisionTree_entropy26</th>\n",
              "      <td>0.70</td>\n",
              "      <td>-0.180506</td>\n",
              "      <td>0.808422</td>\n",
              "      <td>-0.109254</td>\n",
              "      <td>0.381918</td>\n",
              "    </tr>\n",
              "    <tr>\n",
              "      <th>DecisionTree_gini26</th>\n",
              "      <td>0.70</td>\n",
              "      <td>-0.180506</td>\n",
              "      <td>0.808422</td>\n",
              "      <td>-0.109254</td>\n",
              "      <td>0.381918</td>\n",
              "    </tr>\n",
              "    <tr>\n",
              "      <th>DecisionTree_entropy51</th>\n",
              "      <td>0.70</td>\n",
              "      <td>-0.180506</td>\n",
              "      <td>0.808422</td>\n",
              "      <td>-0.109254</td>\n",
              "      <td>0.381918</td>\n",
              "    </tr>\n",
              "    <tr>\n",
              "      <th>DecisionTree_gini51</th>\n",
              "      <td>0.70</td>\n",
              "      <td>-0.180506</td>\n",
              "      <td>0.808422</td>\n",
              "      <td>-0.109254</td>\n",
              "      <td>0.381918</td>\n",
              "    </tr>\n",
              "    <tr>\n",
              "      <th>DecisionTree_entropy100</th>\n",
              "      <td>0.70</td>\n",
              "      <td>-0.180506</td>\n",
              "      <td>0.808422</td>\n",
              "      <td>-0.109254</td>\n",
              "      <td>0.381918</td>\n",
              "    </tr>\n",
              "    <tr>\n",
              "      <th>DecisionTree_gini100</th>\n",
              "      <td>0.70</td>\n",
              "      <td>-0.180506</td>\n",
              "      <td>0.808422</td>\n",
              "      <td>-0.109254</td>\n",
              "      <td>0.381918</td>\n",
              "    </tr>\n",
              "    <tr>\n",
              "      <th>DecisionTree_entropyNone</th>\n",
              "      <td>0.70</td>\n",
              "      <td>-0.180506</td>\n",
              "      <td>0.808422</td>\n",
              "      <td>-0.109254</td>\n",
              "      <td>0.381918</td>\n",
              "    </tr>\n",
              "    <tr>\n",
              "      <th>DecisionTree_giniNone</th>\n",
              "      <td>0.70</td>\n",
              "      <td>-0.180506</td>\n",
              "      <td>0.808422</td>\n",
              "      <td>-0.109254</td>\n",
              "      <td>0.381918</td>\n",
              "    </tr>\n",
              "  </tbody>\n",
              "</table>\n",
              "</div>\n",
              "      <button class=\"colab-df-convert\" onclick=\"convertToInteractive('df-ccf25a4f-65dc-41e1-a7d0-493bf61e9924')\"\n",
              "              title=\"Convert this dataframe to an interactive table.\"\n",
              "              style=\"display:none;\">\n",
              "        \n",
              "  <svg xmlns=\"http://www.w3.org/2000/svg\" height=\"24px\"viewBox=\"0 0 24 24\"\n",
              "       width=\"24px\">\n",
              "    <path d=\"M0 0h24v24H0V0z\" fill=\"none\"/>\n",
              "    <path d=\"M18.56 5.44l.94 2.06.94-2.06 2.06-.94-2.06-.94-.94-2.06-.94 2.06-2.06.94zm-11 1L8.5 8.5l.94-2.06 2.06-.94-2.06-.94L8.5 2.5l-.94 2.06-2.06.94zm10 10l.94 2.06.94-2.06 2.06-.94-2.06-.94-.94-2.06-.94 2.06-2.06.94z\"/><path d=\"M17.41 7.96l-1.37-1.37c-.4-.4-.92-.59-1.43-.59-.52 0-1.04.2-1.43.59L10.3 9.45l-7.72 7.72c-.78.78-.78 2.05 0 2.83L4 21.41c.39.39.9.59 1.41.59.51 0 1.02-.2 1.41-.59l7.78-7.78 2.81-2.81c.8-.78.8-2.07 0-2.86zM5.41 20L4 18.59l7.72-7.72 1.47 1.35L5.41 20z\"/>\n",
              "  </svg>\n",
              "      </button>\n",
              "      \n",
              "  <style>\n",
              "    .colab-df-container {\n",
              "      display:flex;\n",
              "      flex-wrap:wrap;\n",
              "      gap: 12px;\n",
              "    }\n",
              "\n",
              "    .colab-df-convert {\n",
              "      background-color: #E8F0FE;\n",
              "      border: none;\n",
              "      border-radius: 50%;\n",
              "      cursor: pointer;\n",
              "      display: none;\n",
              "      fill: #1967D2;\n",
              "      height: 32px;\n",
              "      padding: 0 0 0 0;\n",
              "      width: 32px;\n",
              "    }\n",
              "\n",
              "    .colab-df-convert:hover {\n",
              "      background-color: #E2EBFA;\n",
              "      box-shadow: 0px 1px 2px rgba(60, 64, 67, 0.3), 0px 1px 3px 1px rgba(60, 64, 67, 0.15);\n",
              "      fill: #174EA6;\n",
              "    }\n",
              "\n",
              "    [theme=dark] .colab-df-convert {\n",
              "      background-color: #3B4455;\n",
              "      fill: #D2E3FC;\n",
              "    }\n",
              "\n",
              "    [theme=dark] .colab-df-convert:hover {\n",
              "      background-color: #434B5C;\n",
              "      box-shadow: 0px 1px 3px 1px rgba(0, 0, 0, 0.15);\n",
              "      filter: drop-shadow(0px 1px 2px rgba(0, 0, 0, 0.3));\n",
              "      fill: #FFFFFF;\n",
              "    }\n",
              "  </style>\n",
              "\n",
              "      <script>\n",
              "        const buttonEl =\n",
              "          document.querySelector('#df-ccf25a4f-65dc-41e1-a7d0-493bf61e9924 button.colab-df-convert');\n",
              "        buttonEl.style.display =\n",
              "          google.colab.kernel.accessAllowed ? 'block' : 'none';\n",
              "\n",
              "        async function convertToInteractive(key) {\n",
              "          const element = document.querySelector('#df-ccf25a4f-65dc-41e1-a7d0-493bf61e9924');\n",
              "          const dataTable =\n",
              "            await google.colab.kernel.invokeFunction('convertToInteractive',\n",
              "                                                     [key], {});\n",
              "          if (!dataTable) return;\n",
              "\n",
              "          const docLinkHtml = 'Like what you see? Visit the ' +\n",
              "            '<a target=\"_blank\" href=https://colab.research.google.com/notebooks/data_table.ipynb>data table notebook</a>'\n",
              "            + ' to learn more about interactive tables.';\n",
              "          element.innerHTML = '';\n",
              "          dataTable['output_type'] = 'display_data';\n",
              "          await google.colab.output.renderOutput(dataTable, element);\n",
              "          const docLink = document.createElement('div');\n",
              "          docLink.innerHTML = docLinkHtml;\n",
              "          element.appendChild(docLink);\n",
              "        }\n",
              "      </script>\n",
              "    </div>\n",
              "  </div>\n",
              "  "
            ]
          },
          "metadata": {},
          "execution_count": 42
        }
      ]
    },
    {
      "cell_type": "code",
      "source": [
        "#fig = plt.figure(figsize=(10,5))\n",
        "\n",
        "fig, ax = plt.subplots(2, 1,figsize=(10,7))\n",
        "\n",
        "ax[0].plot(df['Accuracy']) #row=0, col=0\n",
        "ax[1].plot(df_1['Accuracy']) #row=0, col=0\n",
        "\n",
        "ax[0].set(ylabel=\"Accuracy (%)\",title=\"Experiment on impact of trade-off hyperparameter Adult Dataset (Accuracy)\")\n",
        "ax[1].set(ylabel=\"Accuracy (%)\",title=\"Experiment on impact of trade-off hyperparameter German Dataset (Accuracy)\")\n",
        "\n",
        "#reference:https://stackabuse.com/rotate-axis-labels-in-matplotlib/\n",
        "fig.autofmt_xdate()#Rotate ticks to Fit in Matplotlib\n",
        "fig.tight_layout()\n",
        "plt.show()"
      ],
      "metadata": {
        "id": "qVpA1Gf3mNAB",
        "colab": {
          "base_uri": "https://localhost:8080/",
          "height": 513
        },
        "outputId": "b529745b-14e5-492b-ba66-4b9c8fcb2411"
      },
      "execution_count": null,
      "outputs": [
        {
          "output_type": "display_data",
          "data": {
            "text/plain": [
              "<Figure size 720x504 with 2 Axes>"
            ],
            "image/png": "[encoded data removed]"
          },
          "metadata": {
            "needs_background": "light"
          }
        }
      ]
    },
    {
      "cell_type": "code",
      "source": [
        "fig = plt.figure(figsize=(10,7))\n",
        "\n",
        "plt.plot(df['equal_opportunity_difference'],label='Equal oppotunity ') #row=0, col=1\n",
        "plt.plot(df['new_metric'],label='Proposed metric') #row=0, col=1\n",
        "plt.ylabel('Equal opportunity difference') \n",
        "plt.title(\"Experiment on impact of of trade-off hyperparameter Adult Dataset\")\n",
        "#reference:https://stackabuse.com/rotate-axis-labels-in-matplotlib/\n",
        "fig.autofmt_xdate()#Rotate ticks to Fit in Matplotlib\n",
        "fig.tight_layout()\n",
        "plt.legend()\n",
        "plt.show()"
      ],
      "metadata": {
        "colab": {
          "base_uri": "https://localhost:8080/",
          "height": 513
        },
        "id": "meIxU3WdJ_UG",
        "outputId": "10263084-4fc7-448d-8ad7-97662ce363a1"
      },
      "execution_count": null,
      "outputs": [
        {
          "output_type": "display_data",
          "data": {
            "text/plain": [
              "<Figure size 720x504 with 1 Axes>"
            ],
            "image/png": "[encoded data removed]"
          },
          "metadata": {
            "needs_background": "light"
          }
        }
      ]
    },
    {
      "cell_type": "code",
      "source": [
        "fig = plt.figure(figsize=(10,7))\n",
        "plt.plot(df_1['equal_opportunity_difference'],label='Equal oppotunity') #row=1, col=1\n",
        "plt.plot(df_1['new_metric'],label='Proposed metric') #row=1, col=1\n",
        "plt.title(\"Experiment on impact of of trade-off hyperparameter German Dataset\")\n",
        "fig.autofmt_xdate()#Rotate ticks to Fit in Matplotlib\n",
        "fig.tight_layout()\n",
        "plt.legend()\n",
        "plt.show()"
      ],
      "metadata": {
        "colab": {
          "base_uri": "https://localhost:8080/",
          "height": 513
        },
        "id": "4Vu23MMNKECa",
        "outputId": "0adb5423-78d6-440b-9830-9877d6682adf"
      },
      "execution_count": null,
      "outputs": [
        {
          "output_type": "display_data",
          "data": {
            "text/plain": [
              "<Figure size 720x504 with 1 Axes>"
            ],
            "image/png": "[encoded data removed]"
          },
          "metadata": {
            "needs_background": "light"
          }
        }
      ]
    },
    {
      "cell_type": "code",
      "source": [
        "#fig = plt.figure(figsize=(10,5))\n",
        "\n",
        "fig, ax = plt.subplots(2, 1,figsize=(10,7))\n",
        "\n",
        "#ax[0].plot(df['equal_opportunity_difference'],label='Equal oppotunity difference') #row=0, col=0\n",
        "ax[0].plot(df['new_metric'],label='Proposed metric') #row=0, col=0\n",
        "#ax[0].plot(df['Accuracy'],label='Accuracy') #row=0, col=0\n",
        "\n",
        "#ax[1].plot(df_1['equal_opportunity_difference'],label='Equal oppotunity difference') #row=0, col=0\n",
        "ax[1].plot(df_1['new_metric'],label='Adult Dataset') #row=0, col=0\n",
        "#ax[1].plot(df['Accuracy'],label='Accuracy') #row=0, col=0\n",
        "\n",
        "ax[0].set(ylabel=\"Score (0-1)\",title=\"Experiment on impact of of trade-off hyperparameter Adult Dataset\")\n",
        "ax[1].set(ylabel=\"Score (0-1)\",title=\"Experiment on impact of of trade-off hyperparameter German Dataset\")\n",
        "\n",
        "#reference:https://stackabuse.com/rotate-axis-labels-in-matplotlib/\n",
        "fig.autofmt_xdate()#Rotate ticks to Fit in Matplotlib\n",
        "fig.tight_layout()\n",
        "ax[0].legend()\n",
        "ax[1].legend()\n",
        "plt.show()"
      ],
      "metadata": {
        "colab": {
          "base_uri": "https://localhost:8080/",
          "height": 513
        },
        "id": "a9MROaUJM6u2",
        "outputId": "f9ccc837-35e0-4551-ba21-d2749c6acdb3"
      },
      "execution_count": null,
      "outputs": [
        {
          "output_type": "display_data",
          "data": {
            "text/plain": [
              "<Figure size 720x504 with 2 Axes>"
            ],
            "image/png": "[encoded data removed]"
          },
          "metadata": {
            "needs_background": "light"
          }
        }
      ]
    },
    {
      "cell_type": "code",
      "source": [
        ""
      ],
      "metadata": {
        "id": "qnTO1HqzQFEj"
      },
      "execution_count": null,
      "outputs": []
    }
  ]
}